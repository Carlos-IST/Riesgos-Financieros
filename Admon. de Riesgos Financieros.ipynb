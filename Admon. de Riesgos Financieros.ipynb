{
 "cells": [
  {
   "cell_type": "markdown",
   "source": [
    "# Admon. de Riesgos Financieros\n",
    "\n",
    "### Por Carlos Santillán"
   ],
   "metadata": {
    "collapsed": false,
    "pycharm": {
     "name": "#%% md\n"
    }
   }
  },
  {
   "cell_type": "markdown",
   "source": [
    "## Valor en Riesgo Paramétrico\n",
    "## Portafolio de 2 activos\n"
   ],
   "metadata": {
    "collapsed": false,
    "pycharm": {
     "name": "#%% md\n"
    }
   }
  },
  {
   "cell_type": "markdown",
   "source": [
    " \n",
    "$d S_{1,t} = \\mu_{1} S_{1, t} dt + \\sigma_{1} S_{1, t} dW_{t}$\n",
    "\n",
    "Donde $dW_{t}$ ~ $N(0,dt)$\n",
    "\n",
    "Y recuérdese que $Cov(dW_{t}, dV_{t}) = \\rho dt$\n",
    "\n",
    "Así:\n",
    "\n",
    "(Falta un chingo de apuntes, le tomé foto al cuaderno de Román)\n",
    "\n",
    "$$E[\\frac{d\\Pi_{t}}{\\Pi_{t}}] = E[\\alpha_{1} \\frac{dS_{1,t}}{S_{1,t}} + \\alpha_{2} \\frac{dS_{2,t}}{S_{2,t}}]$$\n",
    "\n",
    "Otra vez fotos del pizarrón\n",
    "...\n",
    "\n",
    "$$Var(\\frac{d\\Pi_{t}}{\\Pi_{t}}) = \\frac{\\alpha_{1}^{2}}{S_{1,t}^{2}} Var(dS_{1,t}) + \\frac{\\alpha_{2}^{2}}{S_{2,t}^{2}} Var(dS_{2,t})$$\n",
    "\n",
    "$$=\\frac{\\alpha_{1}^{2}}{S_{1,t}^{2}} \\sigma_{1}^{2} S_{1,t}^{2} Var(dW_{t})$$\n",
    "\n",
    "...\n",
    "\n",
    "**Resultado**\n",
    "$$Cov(aX + bY, cW + dV)$$\n",
    "\n",
    "$X, Y, W, V$ son variables aleatorias\n",
    "\n",
    "Entonces:\n",
    "$$ac Cov(X, W) + adCov(X, V) + bcCov(Y, W) + bdCov(Y, V)$$\n",
    "\n",
    "$$ Var(\\frac{d \\Pi_{t}}{\\Pi_{t}}) $$\n",
    "$$= \\alpha_{1}^{2} \\sigma_{1}^{2}dt + \\alpha_{2}^{2} \\sigma_{2}^{2}dt $$\n",
    "$$+ 2 \\alpha_{1} \\alpha_{2} \\sigma_{1} \\sigma_{2} \\rho_{\\frac{dS_{1,t}}{S_{1,t}}, \\frac{dS_{2,t}}{S_{2,t}}}$$"
   ],
   "metadata": {
    "collapsed": false,
    "pycharm": {
     "name": "#%% md\n"
    }
   }
  },
  {
   "cell_type": "markdown",
   "source": [
    "$$-VaR_{\\frac{d \\Pi_{t}}{\\Pi_{t}}} = \\mu_{\\frac{d \\Pi_{t}}{\\Pi_{t}}} - \\sqrt{Var(\\frac{d \\Pi_{t}}{\\Pi_{t}})} Z_{q}$$\n",
    "\n",
    "Donde: $Var(\\frac{d \\Pi_{t}}{\\Pi_{t}}) = \\sqrt{\\sigma^{2}_{\\frac{d \\Pi_{t}}{\\Pi_{t}}}}$ "
   ],
   "metadata": {
    "collapsed": false
   }
  },
  {
   "cell_type": "code",
   "execution_count": 1,
   "outputs": [],
   "source": [
    "import numpy as np                  # Vectores\n",
    "import pandas as pd                 # DataFrames\n",
    "import matplotlib.pyplot as plt     # Gráficas\n",
    "import math                         # Operaciones\n",
    "import seaborn as sns               # Gráficos y controles de Scrapping\n",
    "import random                       # Muestreos aleatorios\n",
    "import quandl                       # Datasets financieros\n",
    "\n",
    "from scipy import stats             # Paquetería estadística\n",
    "from scipy.stats import kstest      # Prueba de Kolmogorov-Smirnov\n",
    "from scipy.stats import beta        # Distribución Beta\n",
    "from scipy.stats import expon       # Distribución Exponencial\n",
    "from scipy.stats import uniform     # Distribución uniforme\n",
    "from scipy.stats import norm        # Distribución normal\n",
    "from scipy.stats import binom       # Distribución Binomial\n",
    "\n",
    "%matplotlib inline   "
   ],
   "metadata": {
    "collapsed": false,
    "pycharm": {
     "name": "#%%\n",
     "is_executing": false
    }
   }
  },
  {
   "cell_type": "markdown",
   "source": [
    "Vamos a trabajar con los datos de KOF y CEMEX:"
   ],
   "metadata": {
    "collapsed": false
   }
  },
  {
   "cell_type": "code",
   "execution_count": 3,
   "outputs": [
    {
     "name": "stderr",
     "text": [
      "C:\\Users\\PC\\AppData\\Roaming\\Python\\Python36\\site-packages\\pandas\\io\\excel.py:329: FutureWarning: The `sheetname` keyword is deprecated, use `sheet_name` instead\n  **kwds)\n"
     ],
     "output_type": "stream"
    },
    {
     "data": {
      "text/plain": "          Date   Open   High    Low  Close  Adj Close     Volume\n0   2018-09-27  13.10  13.35  13.10  13.32  13.161206   17468043\n1   2018-09-28  13.23  13.36  13.01  13.14  12.983353   18345450\n2   2018-10-01  13.21  13.52  13.19  13.36  13.200728   18258135\n3   2018-10-02  13.33  13.44  13.10  13.12  12.963591   14672784\n4   2018-10-03  13.12  13.22  12.95  12.99  12.835140   15776125\n5   2018-10-04  13.02  13.02  12.55  12.66  12.509074   33282030\n6   2018-10-05  12.66  12.66  12.10  12.13  11.985393   47318532\n7   2018-10-08  12.10  12.11  11.85  12.06  11.916227   32036544\n8   2018-10-09  12.05  12.21  11.81  12.18  12.034797   19033251\n9   2018-10-10  12.18  12.18  11.90  11.93  11.787777   33197814\n10  2018-10-11  11.91  12.03  11.55  11.60  11.461711   34588906\n11  2018-10-12  11.79  11.93  11.57  11.77  11.629684   21999680\n12  2018-10-15  11.83  12.10  11.68  11.99  11.847061   20678795\n13  2018-10-16  12.05  12.29  11.92  12.10  11.955750   22379214\n14  2018-10-17  12.09  12.18  11.78  11.83  11.688969   21685674\n15  2018-10-18  11.99  11.99  11.26  11.32  11.185049   48605263\n16  2018-10-19  11.36  11.49  11.24  11.40  11.264095   38761422\n17  2018-10-22  11.42  11.57  11.00  11.02  10.888626   33495697\n18  2018-10-23  10.86  10.94  10.65  10.76  10.631725   45602338\n19  2018-10-24  10.77  10.88  10.54  10.58  10.453871   44017731\n20  2018-10-25  10.69  11.28  10.33  10.42  10.295778   46097931\n21  2018-10-26  10.38  10.38   9.85  10.24  10.117924   70208675\n22  2018-10-29  10.11  10.41   9.50   9.76   9.643647   84132764\n23  2018-10-30   9.76  10.30   9.64  10.12   9.999354   69520630\n24  2018-10-31  10.21  10.60  10.00  10.14  10.019116   79243439\n25  2018-11-01  10.20  10.93  10.16  10.88  10.750295   45328710\n26  2018-11-05  10.87  11.22  10.77  10.99  10.858983   55522463\n27  2018-11-06  11.03  11.33  10.86  11.06  10.928149   37702065\n28  2018-11-07  11.14  11.47  11.10  11.22  11.086242   43000818\n29  2018-11-08  11.17  11.24  10.53  10.66  10.532917   51309323\n..         ...    ...    ...    ...    ...        ...        ...\n221 2019-08-16   5.62   5.84   5.62   5.81   5.810000   68615929\n222 2019-08-19   5.85   5.98   5.85   5.90   5.900000  102257429\n223 2019-08-20   5.90   6.08   5.89   5.98   5.980000   87116595\n224 2019-08-21   6.05   6.10   5.99   6.06   6.060000  104987447\n225 2019-08-22   6.10   6.18   6.04   6.16   6.160000   41557048\n226 2019-08-23   6.10   6.32   6.03   6.18   6.180000   36943660\n227 2019-08-26   6.16   6.28   6.16   6.21   6.210000   28921504\n228 2019-08-27   6.23   6.43   6.20   6.41   6.410000  154187793\n229 2019-08-28   6.40   6.60   6.38   6.51   6.510000   43217713\n230 2019-08-29   6.59   7.29   6.59   7.16   7.160000   74478256\n231 2019-08-30   7.21   7.69   7.19   7.47   7.470000   71084088\n232 2019-09-02   7.49   7.50   7.28   7.37   7.370000    9461876\n233 2019-09-03   7.39   7.49   7.05   7.08   7.080000   49081869\n234 2019-09-04   7.15   7.40   7.15   7.39   7.390000   49492325\n235 2019-09-05   7.50   7.67   7.46   7.65   7.650000   42760661\n236 2019-09-06   7.67   7.67   7.40   7.47   7.470000   28117905\n237 2019-09-09   7.54   7.77   7.45   7.70   7.700000   30660187\n238 2019-09-10   7.70   7.89   7.56   7.84   7.840000   54623668\n239 2019-09-11   7.86   7.86   7.43   7.57   7.570000   43272489\n240 2019-09-12   7.52   7.70   7.45   7.48   7.480000   53262743\n241 2019-09-13   7.52   7.66   7.48   7.62   7.620000   13600441\n242 2019-09-17   7.60   7.85   7.51   7.84   7.840000   48385671\n243 2019-09-18   7.83   7.84   7.58   7.74   7.740000   31201196\n244 2019-09-19   7.76   7.89   7.65   7.76   7.760000   21108257\n245 2019-09-20   7.79   8.02   7.74   7.98   7.980000  171300469\n246 2019-09-23   7.97   7.98   7.77   7.84   7.840000   18713335\n247 2019-09-24   7.85   7.86   7.76   7.79   7.790000   16686454\n248 2019-09-25   7.80   7.85   7.52   7.78   7.780000   29864412\n249 2019-09-26   7.80   7.80   7.70   7.77   7.770000   23819002\n250 2019-09-27   7.82   7.92   7.75   7.78   7.780000   18210042\n\n[251 rows x 7 columns]",
      "text/html": "<div>\n<style scoped>\n    .dataframe tbody tr th:only-of-type {\n        vertical-align: middle;\n    }\n\n    .dataframe tbody tr th {\n        vertical-align: top;\n    }\n\n    .dataframe thead th {\n        text-align: right;\n    }\n</style>\n<table border=\"1\" class=\"dataframe\">\n  <thead>\n    <tr style=\"text-align: right;\">\n      <th></th>\n      <th>Date</th>\n      <th>Open</th>\n      <th>High</th>\n      <th>Low</th>\n      <th>Close</th>\n      <th>Adj Close</th>\n      <th>Volume</th>\n    </tr>\n  </thead>\n  <tbody>\n    <tr>\n      <th>0</th>\n      <td>2018-09-27</td>\n      <td>13.10</td>\n      <td>13.35</td>\n      <td>13.10</td>\n      <td>13.32</td>\n      <td>13.161206</td>\n      <td>17468043</td>\n    </tr>\n    <tr>\n      <th>1</th>\n      <td>2018-09-28</td>\n      <td>13.23</td>\n      <td>13.36</td>\n      <td>13.01</td>\n      <td>13.14</td>\n      <td>12.983353</td>\n      <td>18345450</td>\n    </tr>\n    <tr>\n      <th>2</th>\n      <td>2018-10-01</td>\n      <td>13.21</td>\n      <td>13.52</td>\n      <td>13.19</td>\n      <td>13.36</td>\n      <td>13.200728</td>\n      <td>18258135</td>\n    </tr>\n    <tr>\n      <th>3</th>\n      <td>2018-10-02</td>\n      <td>13.33</td>\n      <td>13.44</td>\n      <td>13.10</td>\n      <td>13.12</td>\n      <td>12.963591</td>\n      <td>14672784</td>\n    </tr>\n    <tr>\n      <th>4</th>\n      <td>2018-10-03</td>\n      <td>13.12</td>\n      <td>13.22</td>\n      <td>12.95</td>\n      <td>12.99</td>\n      <td>12.835140</td>\n      <td>15776125</td>\n    </tr>\n    <tr>\n      <th>5</th>\n      <td>2018-10-04</td>\n      <td>13.02</td>\n      <td>13.02</td>\n      <td>12.55</td>\n      <td>12.66</td>\n      <td>12.509074</td>\n      <td>33282030</td>\n    </tr>\n    <tr>\n      <th>6</th>\n      <td>2018-10-05</td>\n      <td>12.66</td>\n      <td>12.66</td>\n      <td>12.10</td>\n      <td>12.13</td>\n      <td>11.985393</td>\n      <td>47318532</td>\n    </tr>\n    <tr>\n      <th>7</th>\n      <td>2018-10-08</td>\n      <td>12.10</td>\n      <td>12.11</td>\n      <td>11.85</td>\n      <td>12.06</td>\n      <td>11.916227</td>\n      <td>32036544</td>\n    </tr>\n    <tr>\n      <th>8</th>\n      <td>2018-10-09</td>\n      <td>12.05</td>\n      <td>12.21</td>\n      <td>11.81</td>\n      <td>12.18</td>\n      <td>12.034797</td>\n      <td>19033251</td>\n    </tr>\n    <tr>\n      <th>9</th>\n      <td>2018-10-10</td>\n      <td>12.18</td>\n      <td>12.18</td>\n      <td>11.90</td>\n      <td>11.93</td>\n      <td>11.787777</td>\n      <td>33197814</td>\n    </tr>\n    <tr>\n      <th>10</th>\n      <td>2018-10-11</td>\n      <td>11.91</td>\n      <td>12.03</td>\n      <td>11.55</td>\n      <td>11.60</td>\n      <td>11.461711</td>\n      <td>34588906</td>\n    </tr>\n    <tr>\n      <th>11</th>\n      <td>2018-10-12</td>\n      <td>11.79</td>\n      <td>11.93</td>\n      <td>11.57</td>\n      <td>11.77</td>\n      <td>11.629684</td>\n      <td>21999680</td>\n    </tr>\n    <tr>\n      <th>12</th>\n      <td>2018-10-15</td>\n      <td>11.83</td>\n      <td>12.10</td>\n      <td>11.68</td>\n      <td>11.99</td>\n      <td>11.847061</td>\n      <td>20678795</td>\n    </tr>\n    <tr>\n      <th>13</th>\n      <td>2018-10-16</td>\n      <td>12.05</td>\n      <td>12.29</td>\n      <td>11.92</td>\n      <td>12.10</td>\n      <td>11.955750</td>\n      <td>22379214</td>\n    </tr>\n    <tr>\n      <th>14</th>\n      <td>2018-10-17</td>\n      <td>12.09</td>\n      <td>12.18</td>\n      <td>11.78</td>\n      <td>11.83</td>\n      <td>11.688969</td>\n      <td>21685674</td>\n    </tr>\n    <tr>\n      <th>15</th>\n      <td>2018-10-18</td>\n      <td>11.99</td>\n      <td>11.99</td>\n      <td>11.26</td>\n      <td>11.32</td>\n      <td>11.185049</td>\n      <td>48605263</td>\n    </tr>\n    <tr>\n      <th>16</th>\n      <td>2018-10-19</td>\n      <td>11.36</td>\n      <td>11.49</td>\n      <td>11.24</td>\n      <td>11.40</td>\n      <td>11.264095</td>\n      <td>38761422</td>\n    </tr>\n    <tr>\n      <th>17</th>\n      <td>2018-10-22</td>\n      <td>11.42</td>\n      <td>11.57</td>\n      <td>11.00</td>\n      <td>11.02</td>\n      <td>10.888626</td>\n      <td>33495697</td>\n    </tr>\n    <tr>\n      <th>18</th>\n      <td>2018-10-23</td>\n      <td>10.86</td>\n      <td>10.94</td>\n      <td>10.65</td>\n      <td>10.76</td>\n      <td>10.631725</td>\n      <td>45602338</td>\n    </tr>\n    <tr>\n      <th>19</th>\n      <td>2018-10-24</td>\n      <td>10.77</td>\n      <td>10.88</td>\n      <td>10.54</td>\n      <td>10.58</td>\n      <td>10.453871</td>\n      <td>44017731</td>\n    </tr>\n    <tr>\n      <th>20</th>\n      <td>2018-10-25</td>\n      <td>10.69</td>\n      <td>11.28</td>\n      <td>10.33</td>\n      <td>10.42</td>\n      <td>10.295778</td>\n      <td>46097931</td>\n    </tr>\n    <tr>\n      <th>21</th>\n      <td>2018-10-26</td>\n      <td>10.38</td>\n      <td>10.38</td>\n      <td>9.85</td>\n      <td>10.24</td>\n      <td>10.117924</td>\n      <td>70208675</td>\n    </tr>\n    <tr>\n      <th>22</th>\n      <td>2018-10-29</td>\n      <td>10.11</td>\n      <td>10.41</td>\n      <td>9.50</td>\n      <td>9.76</td>\n      <td>9.643647</td>\n      <td>84132764</td>\n    </tr>\n    <tr>\n      <th>23</th>\n      <td>2018-10-30</td>\n      <td>9.76</td>\n      <td>10.30</td>\n      <td>9.64</td>\n      <td>10.12</td>\n      <td>9.999354</td>\n      <td>69520630</td>\n    </tr>\n    <tr>\n      <th>24</th>\n      <td>2018-10-31</td>\n      <td>10.21</td>\n      <td>10.60</td>\n      <td>10.00</td>\n      <td>10.14</td>\n      <td>10.019116</td>\n      <td>79243439</td>\n    </tr>\n    <tr>\n      <th>25</th>\n      <td>2018-11-01</td>\n      <td>10.20</td>\n      <td>10.93</td>\n      <td>10.16</td>\n      <td>10.88</td>\n      <td>10.750295</td>\n      <td>45328710</td>\n    </tr>\n    <tr>\n      <th>26</th>\n      <td>2018-11-05</td>\n      <td>10.87</td>\n      <td>11.22</td>\n      <td>10.77</td>\n      <td>10.99</td>\n      <td>10.858983</td>\n      <td>55522463</td>\n    </tr>\n    <tr>\n      <th>27</th>\n      <td>2018-11-06</td>\n      <td>11.03</td>\n      <td>11.33</td>\n      <td>10.86</td>\n      <td>11.06</td>\n      <td>10.928149</td>\n      <td>37702065</td>\n    </tr>\n    <tr>\n      <th>28</th>\n      <td>2018-11-07</td>\n      <td>11.14</td>\n      <td>11.47</td>\n      <td>11.10</td>\n      <td>11.22</td>\n      <td>11.086242</td>\n      <td>43000818</td>\n    </tr>\n    <tr>\n      <th>29</th>\n      <td>2018-11-08</td>\n      <td>11.17</td>\n      <td>11.24</td>\n      <td>10.53</td>\n      <td>10.66</td>\n      <td>10.532917</td>\n      <td>51309323</td>\n    </tr>\n    <tr>\n      <th>...</th>\n      <td>...</td>\n      <td>...</td>\n      <td>...</td>\n      <td>...</td>\n      <td>...</td>\n      <td>...</td>\n      <td>...</td>\n    </tr>\n    <tr>\n      <th>221</th>\n      <td>2019-08-16</td>\n      <td>5.62</td>\n      <td>5.84</td>\n      <td>5.62</td>\n      <td>5.81</td>\n      <td>5.810000</td>\n      <td>68615929</td>\n    </tr>\n    <tr>\n      <th>222</th>\n      <td>2019-08-19</td>\n      <td>5.85</td>\n      <td>5.98</td>\n      <td>5.85</td>\n      <td>5.90</td>\n      <td>5.900000</td>\n      <td>102257429</td>\n    </tr>\n    <tr>\n      <th>223</th>\n      <td>2019-08-20</td>\n      <td>5.90</td>\n      <td>6.08</td>\n      <td>5.89</td>\n      <td>5.98</td>\n      <td>5.980000</td>\n      <td>87116595</td>\n    </tr>\n    <tr>\n      <th>224</th>\n      <td>2019-08-21</td>\n      <td>6.05</td>\n      <td>6.10</td>\n      <td>5.99</td>\n      <td>6.06</td>\n      <td>6.060000</td>\n      <td>104987447</td>\n    </tr>\n    <tr>\n      <th>225</th>\n      <td>2019-08-22</td>\n      <td>6.10</td>\n      <td>6.18</td>\n      <td>6.04</td>\n      <td>6.16</td>\n      <td>6.160000</td>\n      <td>41557048</td>\n    </tr>\n    <tr>\n      <th>226</th>\n      <td>2019-08-23</td>\n      <td>6.10</td>\n      <td>6.32</td>\n      <td>6.03</td>\n      <td>6.18</td>\n      <td>6.180000</td>\n      <td>36943660</td>\n    </tr>\n    <tr>\n      <th>227</th>\n      <td>2019-08-26</td>\n      <td>6.16</td>\n      <td>6.28</td>\n      <td>6.16</td>\n      <td>6.21</td>\n      <td>6.210000</td>\n      <td>28921504</td>\n    </tr>\n    <tr>\n      <th>228</th>\n      <td>2019-08-27</td>\n      <td>6.23</td>\n      <td>6.43</td>\n      <td>6.20</td>\n      <td>6.41</td>\n      <td>6.410000</td>\n      <td>154187793</td>\n    </tr>\n    <tr>\n      <th>229</th>\n      <td>2019-08-28</td>\n      <td>6.40</td>\n      <td>6.60</td>\n      <td>6.38</td>\n      <td>6.51</td>\n      <td>6.510000</td>\n      <td>43217713</td>\n    </tr>\n    <tr>\n      <th>230</th>\n      <td>2019-08-29</td>\n      <td>6.59</td>\n      <td>7.29</td>\n      <td>6.59</td>\n      <td>7.16</td>\n      <td>7.160000</td>\n      <td>74478256</td>\n    </tr>\n    <tr>\n      <th>231</th>\n      <td>2019-08-30</td>\n      <td>7.21</td>\n      <td>7.69</td>\n      <td>7.19</td>\n      <td>7.47</td>\n      <td>7.470000</td>\n      <td>71084088</td>\n    </tr>\n    <tr>\n      <th>232</th>\n      <td>2019-09-02</td>\n      <td>7.49</td>\n      <td>7.50</td>\n      <td>7.28</td>\n      <td>7.37</td>\n      <td>7.370000</td>\n      <td>9461876</td>\n    </tr>\n    <tr>\n      <th>233</th>\n      <td>2019-09-03</td>\n      <td>7.39</td>\n      <td>7.49</td>\n      <td>7.05</td>\n      <td>7.08</td>\n      <td>7.080000</td>\n      <td>49081869</td>\n    </tr>\n    <tr>\n      <th>234</th>\n      <td>2019-09-04</td>\n      <td>7.15</td>\n      <td>7.40</td>\n      <td>7.15</td>\n      <td>7.39</td>\n      <td>7.390000</td>\n      <td>49492325</td>\n    </tr>\n    <tr>\n      <th>235</th>\n      <td>2019-09-05</td>\n      <td>7.50</td>\n      <td>7.67</td>\n      <td>7.46</td>\n      <td>7.65</td>\n      <td>7.650000</td>\n      <td>42760661</td>\n    </tr>\n    <tr>\n      <th>236</th>\n      <td>2019-09-06</td>\n      <td>7.67</td>\n      <td>7.67</td>\n      <td>7.40</td>\n      <td>7.47</td>\n      <td>7.470000</td>\n      <td>28117905</td>\n    </tr>\n    <tr>\n      <th>237</th>\n      <td>2019-09-09</td>\n      <td>7.54</td>\n      <td>7.77</td>\n      <td>7.45</td>\n      <td>7.70</td>\n      <td>7.700000</td>\n      <td>30660187</td>\n    </tr>\n    <tr>\n      <th>238</th>\n      <td>2019-09-10</td>\n      <td>7.70</td>\n      <td>7.89</td>\n      <td>7.56</td>\n      <td>7.84</td>\n      <td>7.840000</td>\n      <td>54623668</td>\n    </tr>\n    <tr>\n      <th>239</th>\n      <td>2019-09-11</td>\n      <td>7.86</td>\n      <td>7.86</td>\n      <td>7.43</td>\n      <td>7.57</td>\n      <td>7.570000</td>\n      <td>43272489</td>\n    </tr>\n    <tr>\n      <th>240</th>\n      <td>2019-09-12</td>\n      <td>7.52</td>\n      <td>7.70</td>\n      <td>7.45</td>\n      <td>7.48</td>\n      <td>7.480000</td>\n      <td>53262743</td>\n    </tr>\n    <tr>\n      <th>241</th>\n      <td>2019-09-13</td>\n      <td>7.52</td>\n      <td>7.66</td>\n      <td>7.48</td>\n      <td>7.62</td>\n      <td>7.620000</td>\n      <td>13600441</td>\n    </tr>\n    <tr>\n      <th>242</th>\n      <td>2019-09-17</td>\n      <td>7.60</td>\n      <td>7.85</td>\n      <td>7.51</td>\n      <td>7.84</td>\n      <td>7.840000</td>\n      <td>48385671</td>\n    </tr>\n    <tr>\n      <th>243</th>\n      <td>2019-09-18</td>\n      <td>7.83</td>\n      <td>7.84</td>\n      <td>7.58</td>\n      <td>7.74</td>\n      <td>7.740000</td>\n      <td>31201196</td>\n    </tr>\n    <tr>\n      <th>244</th>\n      <td>2019-09-19</td>\n      <td>7.76</td>\n      <td>7.89</td>\n      <td>7.65</td>\n      <td>7.76</td>\n      <td>7.760000</td>\n      <td>21108257</td>\n    </tr>\n    <tr>\n      <th>245</th>\n      <td>2019-09-20</td>\n      <td>7.79</td>\n      <td>8.02</td>\n      <td>7.74</td>\n      <td>7.98</td>\n      <td>7.980000</td>\n      <td>171300469</td>\n    </tr>\n    <tr>\n      <th>246</th>\n      <td>2019-09-23</td>\n      <td>7.97</td>\n      <td>7.98</td>\n      <td>7.77</td>\n      <td>7.84</td>\n      <td>7.840000</td>\n      <td>18713335</td>\n    </tr>\n    <tr>\n      <th>247</th>\n      <td>2019-09-24</td>\n      <td>7.85</td>\n      <td>7.86</td>\n      <td>7.76</td>\n      <td>7.79</td>\n      <td>7.790000</td>\n      <td>16686454</td>\n    </tr>\n    <tr>\n      <th>248</th>\n      <td>2019-09-25</td>\n      <td>7.80</td>\n      <td>7.85</td>\n      <td>7.52</td>\n      <td>7.78</td>\n      <td>7.780000</td>\n      <td>29864412</td>\n    </tr>\n    <tr>\n      <th>249</th>\n      <td>2019-09-26</td>\n      <td>7.80</td>\n      <td>7.80</td>\n      <td>7.70</td>\n      <td>7.77</td>\n      <td>7.770000</td>\n      <td>23819002</td>\n    </tr>\n    <tr>\n      <th>250</th>\n      <td>2019-09-27</td>\n      <td>7.82</td>\n      <td>7.92</td>\n      <td>7.75</td>\n      <td>7.78</td>\n      <td>7.780000</td>\n      <td>18210042</td>\n    </tr>\n  </tbody>\n</table>\n<p>251 rows × 7 columns</p>\n</div>"
     },
     "metadata": {},
     "output_type": "execute_result",
     "execution_count": 3
    }
   ],
   "source": [
    "### Leemos \"KOF.xlsx\" y \"CEMEXCPO.MX\" usando Pandas\n",
    "datos_KOF = pd.read_excel('C:/Users/PC/Desktop/ULSA/7 Semestre/Admon de Riesgos/Parcial_2/KOF.xlsx', sheetname='KOF')\n",
    "datos_CEMEX = pd.read_excel('C:/Users/PC/Desktop/ULSA/7 Semestre/Admon de Riesgos/Parcial_2/CEMEXCPO.MX.xlsx', sheetname='CEMEXCPO.MX (1)')\n",
    "\n",
    "#datos_KOF\n",
    "#datos_CEMEX"
   ],
   "metadata": {
    "collapsed": false,
    "pycharm": {
     "name": "#%%\n",
     "is_executing": false
    }
   }
  },
  {
   "cell_type": "markdown",
   "source": [
    "Observamos los tipos de dato por columna de KOF:"
   ],
   "metadata": {
    "collapsed": false,
    "pycharm": {
     "name": "#%% md\n"
    }
   }
  },
  {
   "cell_type": "code",
   "execution_count": 5,
   "outputs": [
    {
     "data": {
      "text/plain": "Date         datetime64[ns]\nOpen                float64\nHigh                float64\nLow                 float64\nClose               float64\nAdj Close           float64\nVolume                int64\ndtype: object"
     },
     "metadata": {},
     "output_type": "execute_result",
     "execution_count": 5
    }
   ],
   "source": [
    "datos_KOF.dtypes\n",
    "### KOF tiene 252 rows y 7 columnas"
   ],
   "metadata": {
    "collapsed": false,
    "pycharm": {
     "name": "#%%\n",
     "is_executing": false
    }
   }
  },
  {
   "cell_type": "markdown",
   "source": [
    "Observamos los tipos de dato por columna de CEMEX:"
   ],
   "metadata": {
    "collapsed": false,
    "pycharm": {
     "name": "#%% md\n"
    }
   }
  },
  {
   "cell_type": "code",
   "execution_count": 6,
   "outputs": [
    {
     "data": {
      "text/plain": "Date         datetime64[ns]\nOpen                float64\nHigh                float64\nLow                 float64\nClose               float64\nAdj Close           float64\nVolume                int64\ndtype: object"
     },
     "metadata": {},
     "output_type": "execute_result",
     "execution_count": 6
    }
   ],
   "source": [
    "datos_CEMEX.dtypes\n",
    "### CEMEX tiene 251 rows y 7 columnas"
   ],
   "metadata": {
    "collapsed": false,
    "pycharm": {
     "name": "#%%\n",
     "is_executing": false
    }
   }
  },
  {
   "cell_type": "markdown",
   "source": [
    "Cuando haya un desfase en las fechas, nos volamos para que coincidan\n",
    "\n",
    "Nos vamos a quedar con 243"
   ],
   "metadata": {
    "collapsed": false
   }
  },
  {
   "cell_type": "code",
   "execution_count": 11,
   "outputs": [],
   "source": [
    "## En un nuevo dataframe, nos quedamos con los valores que coinciden en fecha\n",
    "merge_KOF_CEMEX_fechas = pd.merge(datos_KOF, datos_CEMEX, on = 'Date', how='inner')\n",
    "\n",
    "#merge_KOF_CEMEX_fechas"
   ],
   "metadata": {
    "collapsed": false,
    "pycharm": {
     "name": "#%%\n",
     "is_executing": false
    }
   }
  },
  {
   "cell_type": "markdown",
   "source": [
    "Nuestro merge tiene 244 rows\n",
    "Veamos las variables que tenemos:"
   ],
   "metadata": {
    "collapsed": false
   }
  },
  {
   "cell_type": "code",
   "execution_count": 13,
   "outputs": [
    {
     "data": {
      "text/plain": "Date           datetime64[ns]\nOpen_x                float64\nHigh_x                float64\nLow_x                 float64\nClose_x               float64\nAdj Close_x           float64\nVolume_x                int64\nOpen_y                float64\nHigh_y                float64\nLow_y                 float64\nClose_y               float64\nAdj Close_y           float64\nVolume_y                int64\ndtype: object"
     },
     "metadata": {},
     "output_type": "execute_result",
     "execution_count": 13
    }
   ],
   "source": [
    "merge_KOF_CEMEX_fechas.dtypes\n"
   ],
   "metadata": {
    "collapsed": false,
    "pycharm": {
     "name": "#%%\n",
     "is_executing": false
    }
   }
  },
  {
   "cell_type": "markdown",
   "source": [
    "Obtengamos los *rendimientos logaritmicos* de cada uno:"
   ],
   "metadata": {
    "collapsed": false
   }
  },
  {
   "cell_type": "code",
   "execution_count": 24,
   "outputs": [],
   "source": [
    "### Pasamos los cierres ajustados a numpy para poder obtener el logaritmo\n",
    "adjCloseKOF = np.asarray(merge_KOF_CEMEX_fechas['Adj Close_x'])\n",
    "adjCloseCEMEX = np.asarray(merge_KOF_CEMEX_fechas['Adj Close_y'])\n",
    "\n",
    "rendimientosKOF = np.zeros(len(adjCloseKOF-1))\n",
    "rendimientosCEMEX = np.zeros(len(adjCloseCEMEX-1))\n",
    "\n",
    "for i in range(len(adjCloseKOF)-1):\n",
    "    rendimientosKOF[i] = np.log(adjCloseKOF[i+1] / adjCloseKOF[i])\n",
    "    rendimientosCEMEX[i] = np.log(adjCloseCEMEX[i+1] / adjCloseCEMEX[i])"
   ],
   "metadata": {
    "collapsed": false,
    "pycharm": {
     "name": "#%%\n",
     "is_executing": false
    }
   }
  },
  {
   "cell_type": "markdown",
   "source": [
    "Pasamos los Numpy arrays a Pandas Series y anexamos a nuestro DataFrame"
   ],
   "metadata": {
    "collapsed": false
   }
  },
  {
   "cell_type": "code",
   "execution_count": 30,
   "outputs": [
    {
     "data": {
      "text/plain": "0           NaN\n1     -0.013606\n2      0.016604\n3     -0.018127\n4     -0.009958\n5     -0.025732\n6     -0.042766\n7     -0.005788\n8      0.009901\n9     -0.020739\n10    -0.028051\n11     0.014549\n12     0.018519\n13     0.009133\n14    -0.022567\n15    -0.044068\n16     0.007042\n17    -0.033901\n18    -0.023876\n19    -0.016870\n20    -0.015238\n21    -0.017425\n22    -0.048009\n23     0.036221\n24     0.001974\n25     0.070438\n26     0.010059\n27     0.006349\n28     0.014363\n29    -0.051200\n         ...   \n214   -0.034969\n215    0.033249\n216    0.015372\n217    0.013468\n218    0.013289\n219    0.016367\n220    0.003241\n221    0.004843\n222    0.031698\n223    0.015480\n224    0.095171\n225    0.042385\n226   -0.053621\n227    0.042854\n228    0.034578\n229   -0.023811\n230    0.030325\n231    0.018019\n232   -0.035046\n233   -0.011960\n234    0.018544\n235    0.028462\n236   -0.012837\n237    0.002581\n238    0.027956\n239   -0.017700\n240   -0.006398\n241   -0.001285\n242   -0.001286\n243    0.001286\nName: Rend_CEMEX, Length: 244, dtype: float64"
     },
     "metadata": {},
     "output_type": "execute_result",
     "execution_count": 30
    }
   ],
   "source": [
    "rendimientosKOFPd = pd.Series(rendimientosKOF)\n",
    "rendimientosCEMEXPd = pd.Series(rendimientosCEMEX)\n",
    "\n",
    "merge_KOF_CEMEX_fechas['Rend_KOF'] = rendimientosKOFPd\n",
    "merge_KOF_CEMEX_fechas['Rend_CEMEX'] = rendimientosCEMEXPd\n",
    "\n",
    "### Movemos las columnas de rendimientos un lugar hacia abajo:\n",
    "merge_KOF_CEMEX_fechas['Rend_CEMEX'] = merge_KOF_CEMEX_fechas['Rend_CEMEX'].shift(+1)\n",
    "merge_KOF_CEMEX_fechas['Rend_KOF'] = merge_KOF_CEMEX_fechas['Rend_KOF'].shift(+1)"
   ],
   "metadata": {
    "collapsed": false,
    "pycharm": {
     "name": "#%%\n",
     "is_executing": false
    }
   }
  },
  {
   "cell_type": "markdown",
   "source": [
    "Visualizamos rendimientos de KOF:"
   ],
   "metadata": {
    "collapsed": false
   }
  },
  {
   "cell_type": "code",
   "execution_count": 31,
   "outputs": [
    {
     "data": {
      "text/plain": "<matplotlib.axes._subplots.AxesSubplot at 0x209c3d9d080>"
     },
     "metadata": {},
     "output_type": "execute_result",
     "execution_count": 31
    },
    {
     "data": {
      "text/plain": "<Figure size 432x288 with 1 Axes>",
      "image/png": "[encoded data removed]"
     },
     "metadata": {},
     "output_type": "display_data"
    }
   ],
   "source": [
    "merge_KOF_CEMEX_fechas.plot(x='Date', y='Rend_KOF')"
   ],
   "metadata": {
    "collapsed": false,
    "pycharm": {
     "name": "#%%\n",
     "is_executing": false
    }
   }
  },
  {
   "cell_type": "markdown",
   "source": [
    "Visualizamos rendimientos de CEMEX:"
   ],
   "metadata": {
    "collapsed": false
   }
  },
  {
   "cell_type": "code",
   "execution_count": 32,
   "outputs": [
    {
     "data": {
      "text/plain": "<matplotlib.axes._subplots.AxesSubplot at 0x209c3d6f7f0>"
     },
     "metadata": {},
     "output_type": "execute_result",
     "execution_count": 32
    },
    {
     "data": {
      "text/plain": "<Figure size 432x288 with 1 Axes>",
      "image/png": "[encoded data removed]"
     },
     "metadata": {},
     "output_type": "display_data"
    }
   ],
   "source": [
    "merge_KOF_CEMEX_fechas.plot(x='Date', y='Rend_CEMEX')"
   ],
   "metadata": {
    "collapsed": false,
    "pycharm": {
     "name": "#%%\n",
     "is_executing": false
    }
   }
  },
  {
   "cell_type": "markdown",
   "source": [
    "Veamos también el comportamiento histórico de KOF:"
   ],
   "metadata": {
    "collapsed": false
   }
  },
  {
   "cell_type": "code",
   "execution_count": 33,
   "outputs": [
    {
     "data": {
      "text/plain": "<matplotlib.axes._subplots.AxesSubplot at 0x209c600f208>"
     },
     "metadata": {},
     "output_type": "execute_result",
     "execution_count": 33
    },
    {
     "data": {
      "text/plain": "<Figure size 432x288 with 1 Axes>",
      "image/png": "[encoded data removed]"
     },
     "metadata": {},
     "output_type": "display_data"
    }
   ],
   "source": [
    "merge_KOF_CEMEX_fechas.plot(x='Date', y='Adj Close_x')"
   ],
   "metadata": {
    "collapsed": false,
    "pycharm": {
     "name": "#%%\n",
     "is_executing": false
    }
   }
  },
  {
   "cell_type": "markdown",
   "source": [
    "Y ahora el comportamiento de CEMEX:"
   ],
   "metadata": {
    "collapsed": false,
    "pycharm": {
     "name": "#%% md\n"
    }
   }
  },
  {
   "cell_type": "code",
   "execution_count": 34,
   "outputs": [
    {
     "data": {
      "text/plain": "<matplotlib.axes._subplots.AxesSubplot at 0x209c607d080>"
     },
     "metadata": {},
     "output_type": "execute_result",
     "execution_count": 34
    },
    {
     "data": {
      "text/plain": "<Figure size 432x288 with 1 Axes>",
      "image/png": "[encoded data removed]"
     },
     "metadata": {},
     "output_type": "display_data"
    }
   ],
   "source": [
    "merge_KOF_CEMEX_fechas.plot(x='Date', y='Adj Close_y')"
   ],
   "metadata": {
    "collapsed": false,
    "pycharm": {
     "name": "#%%\n",
     "is_executing": false
    }
   }
  },
  {
   "cell_type": "markdown",
   "source": [
    "Podemos observar los rendimientos a través de un histograma\n",
    "Así, en el caso de KOF:"
   ],
   "metadata": {
    "collapsed": false
   }
  },
  {
   "cell_type": "code",
   "execution_count": 38,
   "outputs": [],
   "source": [
    "#merge_KOF_CEMEX_2 = merge_KOF_CEMEX_fechas.fillna(0)\n",
    "#merge_KOF_CEMEX_2.plot.hist('Rend_KOF', bins=20)"
   ],
   "metadata": {
    "collapsed": false,
    "pycharm": {
     "name": "#%%\n",
     "is_executing": false
    }
   }
  },
  {
   "cell_type": "markdown",
   "source": [
    "Necesitamos definir un nivel de inversión, así como valores para $\\alpha_{1}$ y $\\alpha_{2}$\n",
    "También requerimos las medias y las desviaciones estándar de los rendimientos:"
   ],
   "metadata": {
    "collapsed": false,
    "pycharm": {
     "name": "#%% md\n"
    }
   }
  },
  {
   "cell_type": "code",
   "execution_count": 40,
   "outputs": [
    {
     "data": {
      "text/plain": "0.014982104505695558"
     },
     "metadata": {},
     "output_type": "execute_result",
     "execution_count": 40
    }
   ],
   "source": [
    "inversion = 1000000    ### 1 millón\n",
    "alfa1 = 0.5            ### tentativo, habrá que optimizarlo\n",
    "alfa2 = 0.5            ### tentativo, habrá que optimizarlo\n",
    "\n",
    "muCEMEX = merge_KOF_CEMEX_fechas['Rend_CEMEX'].mean()\n",
    "muKOF = merge_KOF_CEMEX_fechas['Rend_KOF'].mean()\n",
    "sigmaCEMEX = merge_KOF_CEMEX_fechas['Rend_CEMEX'].std()\n",
    "sigmaKOF = merge_KOF_CEMEX_fechas['Rend_KOF'].std()\n",
    "\n",
    "sigmaKOF\n",
    "sigmaCEMEX\n",
    "muCEMEX\n",
    "muKOF"
   ],
   "metadata": {
    "collapsed": false,
    "pycharm": {
     "name": "#%%\n",
     "is_executing": false
    }
   }
  },
  {
   "cell_type": "markdown",
   "source": [
    "Necesitamos también la correlación entre los rendimientos de KOF y CEMEX:"
   ],
   "metadata": {
    "collapsed": false,
    "pycharm": {
     "name": "#%% md\n"
    }
   }
  },
  {
   "cell_type": "code",
   "execution_count": 41,
   "outputs": [
    {
     "data": {
      "text/plain": "0.37718878500857506"
     },
     "metadata": {},
     "output_type": "execute_result",
     "execution_count": 41
    }
   ],
   "source": [
    "correlacion = merge_KOF_CEMEX_fechas['Rend_CEMEX'].corr(merge_KOF_CEMEX_fechas['Rend_KOF'])"
   ],
   "metadata": {
    "collapsed": false,
    "pycharm": {
     "name": "#%%\n",
     "is_executing": false
    }
   }
  },
  {
   "cell_type": "markdown",
   "source": [
    "Definimos niveles de confianza:"
   ],
   "metadata": {
    "collapsed": false,
    "pycharm": {
     "name": "#%% md\n"
    }
   }
  },
  {
   "cell_type": "code",
   "execution_count": 44,
   "outputs": [],
   "source": [
    "nivelConfianza1 = 0.995"
   ],
   "metadata": {
    "collapsed": false,
    "pycharm": {
     "name": "#%%\n",
     "is_executing": false
    }
   }
  },
  {
   "cell_type": "markdown",
   "source": [
    "Obtenemos el inverso de la distribución acumulada a dicho nivel de confianza:"
   ],
   "metadata": {
    "collapsed": false,
    "pycharm": {
     "name": "#%% md\n"
    }
   }
  },
  {
   "cell_type": "code",
   "execution_count": 45,
   "outputs": [
    {
     "data": {
      "text/plain": "2.5758293035489004"
     },
     "metadata": {},
     "output_type": "execute_result",
     "execution_count": 45
    }
   ],
   "source": [
    "Z1 = norm.ppf(nivelConfianza1)\n",
    "Z1 "
   ],
   "metadata": {
    "collapsed": false,
    "pycharm": {
     "name": "#%%\n",
     "is_executing": false
    }
   }
  },
  {
   "cell_type": "markdown",
   "source": [
    "Obtenemos la media según ponderaciones, i.e.\n",
    "$$M_{\\Pi} = \\alpha_{1} \\mu_{1} + \\alpha_{2} \\mu_{2}$$"
   ],
   "metadata": {
    "collapsed": false,
    "pycharm": {
     "name": "#%% md\n"
    }
   }
  },
  {
   "cell_type": "code",
   "execution_count": 46,
   "outputs": [],
   "source": [
    "Mpi = (alfa1*muCEMEX) + (alfa2 * muKOF)"
   ],
   "metadata": {
    "collapsed": false,
    "pycharm": {
     "name": "#%%\n",
     "is_executing": false
    }
   }
  },
  {
   "cell_type": "markdown",
   "source": [
    "Obtenemos también la varianza:\n",
    "\n",
    "$$\\sigma_{\\Pi}^{2} = \\alpha_{1}^{2} \\sigma_{1}^{2} + \\alpha_{2}^{2} \\sigma_{2}^{2} + 2 \\alpha_{1} \\alpha_{2} \\sigma_{1} \\sigma_{2} \\rho$$"
   ],
   "metadata": {
    "collapsed": false,
    "pycharm": {
     "name": "#%% md\n"
    }
   }
  },
  {
   "cell_type": "code",
   "execution_count": 48,
   "outputs": [
    {
     "data": {
      "text/plain": "0.00024825504156842553"
     },
     "metadata": {},
     "output_type": "execute_result",
     "execution_count": 48
    }
   ],
   "source": [
    "varPi = (alfa1**2 * sigmaCEMEX**2) + (alfa2**2 * sigmaKOF**2) + 2*(alfa1 * alfa2 * sigmaCEMEX * sigmaKOF * correlacion)\n",
    "varPi"
   ],
   "metadata": {
    "collapsed": false,
    "pycharm": {
     "name": "#%%\n",
     "is_executing": false
    }
   }
  },
  {
   "cell_type": "markdown",
   "source": [
    "Obtenemos entonces, la desviación estándar:"
   ],
   "metadata": {
    "collapsed": false,
    "pycharm": {
     "name": "#%% md\n"
    }
   }
  },
  {
   "cell_type": "code",
   "execution_count": 49,
   "outputs": [
    {
     "data": {
      "text/plain": "0.01575611124511456"
     },
     "metadata": {},
     "output_type": "execute_result",
     "execution_count": 49
    }
   ],
   "source": [
    "stdevPi = np.sqrt(varPi)\n",
    "stdevPi"
   ],
   "metadata": {
    "collapsed": false,
    "pycharm": {
     "name": "#%%\n",
     "is_executing": false
    }
   }
  },
  {
   "cell_type": "markdown",
   "source": [
    "Calculamos -VaR:"
   ],
   "metadata": {
    "collapsed": false,
    "pycharm": {
     "name": "#%% md\n"
    }
   }
  },
  {
   "cell_type": "code",
   "execution_count": 50,
   "outputs": [
    {
     "data": {
      "text/plain": "-0.041622806856885262"
     },
     "metadata": {},
     "output_type": "execute_result",
     "execution_count": 50
    }
   ],
   "source": [
    "VaR1 = Mpi - (stdevPi * Z1)\n",
    "VaR1"
   ],
   "metadata": {
    "collapsed": false,
    "pycharm": {
     "name": "#%%\n",
     "is_executing": false
    }
   }
  },
  {
   "cell_type": "markdown",
   "source": [
    "Expresamos VaR en porcentaje y en dinero:"
   ],
   "metadata": {
    "collapsed": false,
    "pycharm": {
     "name": "#%% md\n"
    }
   }
  },
  {
   "cell_type": "code",
   "execution_count": 51,
   "outputs": [
    {
     "data": {
      "text/plain": "-41622.806856885261"
     },
     "metadata": {},
     "output_type": "execute_result",
     "execution_count": 51
    }
   ],
   "source": [
    "VaR1pcte = 100 * VaR1\n",
    "VaR1currency = inversion * VaR1\n",
    "VaR1currency"
   ],
   "metadata": {
    "collapsed": false,
    "pycharm": {
     "name": "#%%\n",
     "is_executing": false
    }
   }
  },
  {
   "cell_type": "markdown",
   "source": [
    "Ahora, calculamos medidas de $VaR$ para CEMEX y KOF:"
   ],
   "metadata": {
    "collapsed": false,
    "pycharm": {
     "name": "#%% md\n"
    }
   }
  },
  {
   "cell_type": "code",
   "execution_count": 53,
   "outputs": [
    {
     "data": {
      "text/plain": "-3.850340604835393"
     },
     "metadata": {},
     "output_type": "execute_result",
     "execution_count": 53
    }
   ],
   "source": [
    "VaRCEMEX = muCEMEX - (Z1 * sigmaCEMEX)\n",
    "VaRKOF = muKOF - (Z1 * sigmaKOF)\n",
    "\n",
    "### Expresamos en porcentaje:\n",
    "VaRCEMEXPcte = VaRCEMEX * 100\n",
    "VaRKOFPcte = VaRKOF * 100\n",
    "\n",
    "VaRKOFPcte"
   ],
   "metadata": {
    "collapsed": false,
    "pycharm": {
     "name": "#%%\n",
     "is_executing": false
    }
   }
  },
  {
   "cell_type": "markdown",
   "source": [
    "Los valores de $S_{1, t}$ y $S_{2, t}$ corresponden al último valor de cierre ajustado para CEMEX y KOF respectivamente:"
   ],
   "metadata": {
    "collapsed": false,
    "pycharm": {
     "name": "#%% md\n"
    }
   }
  },
  {
   "cell_type": "code",
   "execution_count": 56,
   "outputs": [
    {
     "data": {
      "text/plain": "7.7800000000000002"
     },
     "metadata": {},
     "output_type": "execute_result",
     "execution_count": 56
    }
   ],
   "source": [
    "S1t_CEMEX = merge_KOF_CEMEX_fechas['Adj Close_y'].iloc[-1]\n",
    "S2t_KOF = merge_KOF_CEMEX_fechas['Adj Close_x'].iloc[-1]\n",
    "\n",
    "S1t_CEMEX"
   ],
   "metadata": {
    "collapsed": false,
    "pycharm": {
     "name": "#%%\n",
     "is_executing": false
    }
   }
  },
  {
   "cell_type": "markdown",
   "source": [
    "Así podemos obtener un número de títulos dentro del portafolio para CEMEX y KOF:"
   ],
   "metadata": {
    "collapsed": false,
    "pycharm": {
     "name": "#%% md\n"
    }
   }
  },
  {
   "cell_type": "code",
   "execution_count": 57,
   "outputs": [
    {
     "data": {
      "text/plain": "8257.638451818968"
     },
     "metadata": {},
     "output_type": "execute_result",
     "execution_count": 57
    }
   ],
   "source": [
    "titulosCEMEX = (inversion * alfa1) / S1t_CEMEX\n",
    "titulosKOF = (inversion * alfa2) / S2t_KOF\n",
    "\n",
    "titulosKOF"
   ],
   "metadata": {
    "collapsed": false,
    "pycharm": {
     "name": "#%%\n",
     "is_executing": false
    }
   }
  },
  {
   "cell_type": "markdown",
   "source": [
    "Ahora, obtenemos un vector con los valores considerando el número de títulos"
   ],
   "metadata": {
    "collapsed": false,
    "pycharm": {
     "name": "#%% md\n"
    }
   }
  },
  {
   "cell_type": "code",
   "execution_count": 60,
   "outputs": [
    {
     "data": {
      "text/plain": "Date             datetime64[ns]\nOpen_x                  float64\nHigh_x                  float64\nLow_x                   float64\nClose_x                 float64\nAdj Close_x             float64\nVolume_x                  int64\nOpen_y                  float64\nHigh_y                  float64\nLow_y                   float64\nClose_y                 float64\nAdj Close_y             float64\nVolume_y                  int64\nRend_KOF                float64\nRend_CEMEX              float64\nClose_titulos           float64\ndtype: object"
     },
     "metadata": {},
     "output_type": "execute_result",
     "execution_count": 60
    }
   ],
   "source": [
    "merge_KOF_CEMEX_fechas['Close_titulos'] = (titulosCEMEX * merge_KOF_CEMEX_fechas['Adj Close_y']) + (titulosKOF * merge_KOF_CEMEX_fechas['Adj Close_x'])\n",
    "\n",
    "merge_KOF_CEMEX_fechas.dtypes"
   ],
   "metadata": {
    "collapsed": false,
    "pycharm": {
     "name": "#%%\n",
     "is_executing": false
    }
   }
  },
  {
   "cell_type": "markdown",
   "source": [
    "Y ahora calculamos los rendimientos:"
   ],
   "metadata": {
    "collapsed": false,
    "pycharm": {
     "name": "#%% md\n"
    }
   }
  },
  {
   "cell_type": "code",
   "execution_count": 62,
   "outputs": [],
   "source": [
    "adjClosePortfolio = np.asarray(merge_KOF_CEMEX_fechas['Close_titulos'])\n",
    "rendimientosPortafolio = np.zeros(len(adjClosePortfolio)-1)\n",
    "\n",
    "for i in range(len(adjClosePortfolio)-1):\n",
    "    rendimientosPortafolio[i] = np.log(adjClosePortfolio[i+1] / adjClosePortfolio[i])\n",
    "\n",
    "rendimientosPortafolioPd = pd.Series(rendimientosPortafolio)\n",
    "\n",
    "merge_KOF_CEMEX_fechas['Rend_Portafolio'] = rendimientosPortafolioPd\n",
    "\n",
    "### Movemos las columnas de rendimientos un lugar hacia abajo:\n",
    "merge_KOF_CEMEX_fechas['Rend_Portafolio'] = merge_KOF_CEMEX_fechas['Rend_Portafolio'].shift(+1)"
   ],
   "metadata": {
    "collapsed": false,
    "pycharm": {
     "name": "#%%\n",
     "is_executing": false
    }
   }
  },
  {
   "cell_type": "markdown",
   "source": [
    "Obtenemos el -VaR de la distribución empírica"
   ],
   "metadata": {
    "collapsed": false,
    "pycharm": {
     "name": "#%% md\n"
    }
   }
  },
  {
   "cell_type": "code",
   "execution_count": 64,
   "outputs": [
    {
     "data": {
      "text/plain": "0.04469802748263034"
     },
     "metadata": {},
     "output_type": "execute_result",
     "execution_count": 64
    }
   ],
   "source": [
    "VaREmpirico = np.percentile(rendimientosPortafolio, (nivelConfianza1*100))\n",
    "VaREmpirico"
   ],
   "metadata": {
    "collapsed": false,
    "pycharm": {
     "name": "#%% \n",
     "is_executing": false
    }
   }
  },
  {
   "cell_type": "markdown",
   "source": [
    "Concluimos que nuestro VaR Empírico es de 4.46%"
   ],
   "metadata": {
    "collapsed": false,
    "pycharm": {
     "name": "#%% md\n"
    }
   }
  }
 ],
 "metadata": {
  "kernelspec": {
   "display_name": "Python 3",
   "language": "python",
   "name": "python3"
  },
  "language_info": {
   "codemirror_mode": {
    "name": "ipython",
    "version": 2
   },
   "file_extension": ".py",
   "mimetype": "text/x-python",
   "name": "python",
   "nbconvert_exporter": "python",
   "pygments_lexer": "ipython2",
   "version": "2.7.6"
  },
  "pycharm": {
   "stem_cell": {
    "cell_type": "raw",
    "source": [],
    "metadata": {
     "collapsed": false
    }
   }
  }
 },
 "nbformat": 4,
 "nbformat_minor": 0
}