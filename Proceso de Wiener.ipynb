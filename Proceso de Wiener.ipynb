{
 "cells": [
  {
   "cell_type": "markdown",
   "metadata": {},
   "source": [
    "# Administración de Riesgos Financieros"
   ]
  },
  {
   "cell_type": "markdown",
   "metadata": {},
   "source": [
    "#### Por Carlos Santillán"
   ]
  },
  {
   "cell_type": "markdown",
   "metadata": {},
   "source": [
    "## Proceso de Wiener ($W_{t}$)"
   ]
  },
  {
   "cell_type": "markdown",
   "metadata": {},
   "source": [
    "## Bloque inicial"
   ]
  },
  {
   "cell_type": "code",
   "execution_count": 27,
   "metadata": {},
   "outputs": [],
   "source": [
    "import numpy as np                  # Vectores\n",
    "import pandas as pd                 # DataFrames\n",
    "import matplotlib.pyplot as plt     # Gráficas\n",
    "import math                         # Operaciones\n",
    "from scipy import stats             # Paquetería estadística\n",
    "from scipy.stats import kstest      # Prueba de Kolmogorov-Smirnov\n",
    "from scipy.stats import beta        # Distribución Beta\n",
    "from scipy.stats import expon       # Distribución Exponencial\n",
    "from scipy.stats import norm        # Distribución Normal\n",
    "\n",
    "%matplotlib inline   "
   ]
  },
  {
   "cell_type": "markdown",
   "metadata": {},
   "source": [
    "### Construcción del Proceso de Wiener"
   ]
  },
  {
   "cell_type": "markdown",
   "metadata": {},
   "source": [
    "- Consideraremos valores diarios, así que declaramos vectores de 365"
   ]
  },
  {
   "cell_type": "code",
   "execution_count": 35,
   "metadata": {},
   "outputs": [],
   "source": [
    "### LLenamos vector con valores tomados de la Normal Inversa (0, 1)\n",
    "mu = 0.005     ### mu de Black-Scholes\n",
    "sigma = 0.02   ### sigma de Black-Scholes\n",
    "n = 365        ### tamaño del vector\n",
    "S0 = 40        ### Precio inicial\n",
    "\n",
    "Nt = np.zeros(n)\n",
    "Wt = np.zeros(n)\n",
    "\n",
    "for i in range(0, len(Nt)-1):\n",
    "    Nt[i] = np.random.uniform(0,1)\n",
    "\n",
    "Wt = norm.ppf(Nt)\n",
    "Wt = np.nan_to_num(Wt)\n"
   ]
  },
  {
   "cell_type": "markdown",
   "metadata": {},
   "source": [
    "2. Construimos vector de valores acumulados (trayectoria) de $W_{t}$\n"
   ]
  },
  {
   "cell_type": "code",
   "execution_count": 15,
   "metadata": {},
   "outputs": [],
   "source": [
    "trayWt = np.zeros(n)\n",
    "trayWt[0] = Wt[0]\n",
    "for i in range(0, len(trayWt)-1):\n",
    "    trayWt[i+1] = trayWt[i] + Wt[i+1] \n"
   ]
  },
  {
   "cell_type": "markdown",
   "metadata": {},
   "source": [
    "### Construcción del Proceso Aritmético de Wiener $\\mu + \\sigma W_{t}$"
   ]
  },
  {
   "cell_type": "markdown",
   "metadata": {},
   "source": [
    "3. Construimos el vector de $\\mu + \\sigma W_{t}$ "
   ]
  },
  {
   "cell_type": "code",
   "execution_count": 19,
   "metadata": {},
   "outputs": [],
   "source": [
    "muSigmaWt = np.zeros(n)\n",
    "for i in range(0, len(muSigmaWt)-1):\n",
    "    muSigmaWt[i] = mu + sigma*Wt[i]\n"
   ]
  },
  {
   "cell_type": "markdown",
   "metadata": {},
   "source": [
    "4. Construimos trayectorias de $\\mu + \\sigma W_{t}$"
   ]
  },
  {
   "cell_type": "code",
   "execution_count": 21,
   "metadata": {},
   "outputs": [],
   "source": [
    "trayMuSigmaWt = np.zeros(n)\n",
    "trayMuSigmaWt[0] = muSigmaWt[0]\n",
    "for i in range(0, len(trayMuSigmaWt)-1):\n",
    "    trayMuSigmaWt[i+1] = trayMuSigmaWt[i] + muSigmaWt[i+1]"
   ]
  },
  {
   "cell_type": "markdown",
   "metadata": {},
   "source": [
    "### Construcción del Proceso Geométrico de Wiener "
   ]
  },
  {
   "cell_type": "markdown",
   "metadata": {},
   "source": [
    "5. Calculamos el vector de $S_{0} e^{(\\mu - \\frac{\\sigma^{2}}{2}) + \\sigma Z}$"
   ]
  },
  {
   "cell_type": "code",
   "execution_count": 31,
   "metadata": {},
   "outputs": [],
   "source": [
    "St = np.zeros(n)\n",
    "St[0] = S0\n",
    "for i in range(0, len(St)-1):\n",
    "    St[i+1] = St[i] * math.exp((mu - ((sigma**2)/2)) + sigma * Wt[i])\n"
   ]
  },
  {
   "cell_type": "markdown",
   "metadata": {},
   "source": [
    "### Gráficos"
   ]
  },
  {
   "cell_type": "markdown",
   "metadata": {},
   "source": [
    "Observamos las **frecuencias** en los valores de $W_{t}$"
   ]
  },
  {
   "cell_type": "code",
   "execution_count": 42,
   "metadata": {},
   "outputs": [
    {
     "name": "stderr",
     "output_type": "stream",
     "text": [
      "C:\\ProgramData\\Anaconda3\\lib\\site-packages\\numpy\\core\\function_base.py:159: RuntimeWarning: overflow encountered in multiply\n",
      "  y *= step\n",
      "C:\\ProgramData\\Anaconda3\\lib\\site-packages\\matplotlib\\axes\\_base.py:2481: RuntimeWarning: overflow encountered in double_scalars\n",
      "  x0t -= delta\n"
     ]
    },
    {
     "data": {
      "text/plain": [
       "Text(0.5, 0, 'Wt')"
      ]
     },
     "execution_count": 42,
     "metadata": {},
     "output_type": "execute_result"
    },
    {
     "data": {
      "image/png": "[encoded data removed]",
      "text/plain": [
       "<Figure size 432x288 with 1 Axes>"
      ]
     },
     "metadata": {
      "needs_background": "light"
     },
     "output_type": "display_data"
    }
   ],
   "source": [
    "%matplotlib inline    \n",
    "\n",
    "#min(Wt)      ### aprox -1.797693e+308 = inf\n",
    "#max(Wt)     ### al rededor de 3.25\n",
    "\n",
    "### Consideremos entonces intervalos \"simétricos\"\n",
    "plt.hist(Wt, bins = 30)          ### Histograma\n",
    "plt.axis([-3.5, 3.5, 0, 0.6])    ### Valores para eje x y para eje y\n",
    "plt.xlabel(\"Wt\")                 ### Título de eje x\n"
   ]
  },
  {
   "cell_type": "markdown",
   "metadata": {},
   "source": [
    "Graficamos la **trayectoria** del *Proceso de Wiener*"
   ]
  },
  {
   "cell_type": "code",
   "execution_count": 45,
   "metadata": {},
   "outputs": [
    {
     "data": {
      "text/plain": [
       "Text(0.5, 1.0, 'Trayectoria Wt')"
      ]
     },
     "execution_count": 45,
     "metadata": {},
     "output_type": "execute_result"
    },
    {
     "data": {
      "image/png": "[encoded data removed]",
      "text/plain": [
       "<Figure size 432x288 with 1 Axes>"
      ]
     },
     "metadata": {
      "needs_background": "light"
     },
     "output_type": "display_data"
    }
   ],
   "source": [
    "%matplotlib inline\n",
    "\n",
    "Wt_Series = pd.Series(Wt)     ### Pasamos de numpy a pandas\n",
    "\n",
    "### Otra alternativa es generar el vector de números ordinales\n",
    "numOrd = np.zeros(n)\n",
    "for i in range(0, len(numOrd)-1):\n",
    "    numOrd[0] = 1\n",
    "    numOrd[i+1] = numOrd[i] + 1\n",
    "\n",
    "plt.plot(numOrd, trayWt, color = 'blue')\n",
    "plt.xlabel('Días')\n",
    "plt.title('Trayectoria Wt')\n"
   ]
  },
  {
   "cell_type": "markdown",
   "metadata": {},
   "source": [
    "Graficamos el Proceso (sin trayectoria)\n"
   ]
  },
  {
   "cell_type": "code",
   "execution_count": 46,
   "metadata": {},
   "outputs": [
    {
     "data": {
      "text/plain": [
       "Text(0.5, 1.0, 'Wt')"
      ]
     },
     "execution_count": 46,
     "metadata": {},
     "output_type": "execute_result"
    },
    {
     "data": {
      "image/png": "[encoded data removed]",
      "text/plain": [
       "<Figure size 432x288 with 1 Axes>"
      ]
     },
     "metadata": {
      "needs_background": "light"
     },
     "output_type": "display_data"
    }
   ],
   "source": [
    "%matplotlib inline\n",
    "\n",
    "plt.plot(numOrd, Wt, color = 'green')\n",
    "plt.xlabel('Días')\n",
    "plt.title('Wt')"
   ]
  },
  {
   "cell_type": "markdown",
   "metadata": {},
   "source": [
    "Graficamos la **Trayectoria** del *Proceso Aritmético de Wiener*"
   ]
  },
  {
   "cell_type": "code",
   "execution_count": 47,
   "metadata": {},
   "outputs": [
    {
     "data": {
      "text/plain": [
       "Text(0.5, 1.0, 'Trayectoria del Aritmético')"
      ]
     },
     "execution_count": 47,
     "metadata": {},
     "output_type": "execute_result"
    },
    {
     "data": {
      "image/png": "[encoded data removed]",
      "text/plain": [
       "<Figure size 432x288 with 1 Axes>"
      ]
     },
     "metadata": {
      "needs_background": "light"
     },
     "output_type": "display_data"
    }
   ],
   "source": [
    "%matplotlib inline\n",
    "\n",
    "plt.plot(numOrd, trayMuSigmaWt, color = 'red')\n",
    "plt.xlabel('Días')\n",
    "plt.title('Trayectoria del Aritmético')"
   ]
  },
  {
   "cell_type": "markdown",
   "metadata": {},
   "source": [
    "Graficamos la trayectoria del **Geométrico**"
   ]
  },
  {
   "cell_type": "code",
   "execution_count": 49,
   "metadata": {},
   "outputs": [
    {
     "data": {
      "text/plain": [
       "Text(0.5, 1.0, 'Trayectoria del Geométrico (St)')"
      ]
     },
     "execution_count": 49,
     "metadata": {},
     "output_type": "execute_result"
    },
    {
     "data": {
      "image/png": "[encoded data removed]",
      "text/plain": [
       "<Figure size 432x288 with 1 Axes>"
      ]
     },
     "metadata": {
      "needs_background": "light"
     },
     "output_type": "display_data"
    }
   ],
   "source": [
    "%matplotlib inline\n",
    "\n",
    "plt.plot(numOrd, St, color = 'blue')\n",
    "plt.xlabel('Días')\n",
    "plt.title('Trayectoria del Geométrico (St)')"
   ]
  },
  {
   "cell_type": "code",
   "execution_count": null,
   "metadata": {},
   "outputs": [],
   "source": []
  }
 ],
 "metadata": {
  "kernelspec": {
   "display_name": "Python 3",
   "language": "python",
   "name": "python3"
  },
  "language_info": {
   "codemirror_mode": {
    "name": "ipython",
    "version": 3
   },
   "file_extension": ".py",
   "mimetype": "text/x-python",
   "name": "python",
   "nbconvert_exporter": "python",
   "pygments_lexer": "ipython3",
   "version": "3.7.3"
  }
 },
 "nbformat": 4,
 "nbformat_minor": 2
}
