{
 "cells": [
  {
   "cell_type": "markdown",
   "metadata": {
    "collapsed": true,
    "pycharm": {
     "name": "#%% md\n"
    }
   },
   "source": [
    "# Exámen II: Valor en Riesgo (Paramétrico)\n",
    "\n",
    "# Reporte Ejecutivo\n",
    "\n",
    "#### Por Carlos Iván Santillán Téllez"
   ]
  },
  {
   "cell_type": "markdown",
   "source": [
    "Se ha realizado una análisis del índice *S&P 500*, consideramos entonces una inversión\n",
    "hipotética de $1,000,000 USD para este análisis. Se asumirá que esta cantidad fue \n",
    "invertida en un ETF que logra replicar en su totalidad al índice.\n",
    "\n",
    "Se ha analizado el periodo de un año comprendido entre el 1° de Octubre de 2018 y el\n",
    "1° de Octubre de 2019. También se han considerado cuatro horizontes de \n",
    "tiempo distintos: diario, semanal, mensual y anual.\n",
    "\n",
    "El análisis también contempló tres niveles de confianza distintos:\n",
    "\n",
    "a) 95%\n",
    "\n",
    "b) 99.5% y\n",
    "\n",
    "c) 99.9%"
   ],
   "metadata": {
    "collapsed": false,
    "pycharm": {
     "name": "#%% md\n"
    }
   }
  },
  {
   "cell_type": "markdown",
   "source": [
    "### Análisis de horizonte diario del S&P 500\n",
    "Los resultados para los distintos niveles de confianza pueden verse en la\n",
    "siguiente tabla:\n",
    "\n",
    "| Confianza  | 95%  | 99.5%  | 99.9%  |\n",
    "|---|---|---|---|\n",
    "| $VaR^{diario}$  | $17,478.9647  | $27,343.3562  | $32,793.8451  |\n",
    "\n",
    "Podemos interpretar estos resultados de diversas maneras.\n",
    "\n",
    "Para empezar, se puede considerar que existe una probabilidad de 5% de que el \n",
    "*S&P 500* pierda valor en al menos $17,478.9647 sobre un horizonte diario\n",
    "(asumiendo que no hay \"intra-day trading\").\n",
    "\n",
    "Una interpretación menos formal es aseverar que una pérdida de al menos $17,478.9647\n",
    "se espera en 1 de cada 20 días (por el 5% de probabilidad).\n",
    "\n",
    "Tomando en cuenta los otros niveles de confianza, nos es posible concluir que se \n",
    "tiene una probabilidad de 0.5% de perder valor en un nivel de al menos $27,343.3562\n",
    "sobre un horizonte diario, nuevamente, asumiendo que no hay trading en este\n",
    "periodo.\n",
    "\n",
    "Y considerando nuestro último nivel de confianza, concluimos que existe una\n",
    "probabilidad de 0.1% de presentar pérdidas de al menos $32,793.8451 en nuestra \n",
    "inversión de 1,000,000 USD para un horizonte diario sin trading.\n",
    "\n",
    "Es importante notar que mientras más confianza se considere en el cálculo del \n",
    "$VaR$, mayor es la pérdida potencial en que se incurre. Sin embargo, también es\n",
    "necesario recalcar que estas mayores pérdidas ocurren con menor probabilidad.\n",
    "\n",
    "De modo que el *S&P 500*, analizado en horizonte diario, presenta una relación\n",
    "inversa entre la probabilidad de pérdida y la severidad de dicha pérdida."
   ],
   "metadata": {
    "collapsed": false,
    "pycharm": {
     "name": "#%% md\n"
    }
   }
  },
  {
   "cell_type": "markdown",
   "source": [
    "### Análisis en horizonte semanal del S&P 500\n",
    "\n",
    "Es necesario señalar que el análisis semanal se hizo con base en los datos históricos\n",
    "a nivel diario, para lo cual se usaron los siguientes escalamientos de los\n",
    "parámetros:\n",
    "\n",
    "$$\\mu^{semanal} = 5 \\mu$$\n",
    "\n",
    "y\n",
    "\n",
    "$$\\sigma^{semanal} = \\sigma \\sqrt{5}$$\n",
    "\n",
    "Obtenieno así los resultados siguientes:\n",
    "\n",
    "| Confianza  | 95%  | 99.5%  | 99.9%  |\n",
    "|---|---|---|---|\n",
    "| $VaR^{semanal}$  | $39,223.7223  | $61,281.1721  | $73,468.8357  |\n",
    "\n",
    "Ahora se observa una probabilidad de 5% de presentar pérdidas de al menos $39,223.7223\n",
    "en un horizonte semanal asumiendo que no hay intra-week trading.\n",
    "\n",
    "Existen también probabilidades de 0.5% y 0.1% de presentar pérdidas de al menos\n",
    "61,281.1721 USD y 73,468.8357 USD respectivamente de manera semanal, asumiendo que no\n",
    "hacemos trading.\n",
    "\n",
    "Nuevamente se observa la relación directa entre el nivel de confianza y el aumento\n",
    "en la severidad de la pérdida potencial, además podemos notar que estás pérdidas \n",
    "potenciales son mayores que cuando se consideró el horizonte diario, es decir:\n",
    "\n",
    "$$VaR_{1-q}^{diario} < VaR_{1-q}^{semanal}$$\n",
    "\n",
    "Sin embargo, nótese que a pesar de los factores de escalamiento, esta diferencial no es\n",
    "lineal, puesto que si lo fuera, el nivel de pérdida potencial con confianza de\n",
    "95% en horizonte semanal hubiera sido de aproximadamente $87,390\n",
    "(i.e. $17,478.9647 x 5).\n",
    " "
   ],
   "metadata": {
    "collapsed": false,
    "pycharm": {
     "name": "#%% md\n"
    }
   }
  },
  {
   "cell_type": "markdown",
   "source": [
    "### Análisis en horizonte mensual del S&P 500"
   ],
   "metadata": {
    "collapsed": false,
    "pycharm": {
     "name": "#%% md\n"
    }
   }
  },
  {
   "cell_type": "markdown",
   "source": [
    "## Anexo"
   ],
   "metadata": {
    "collapsed": false,
    "pycharm": {
     "name": "#%% md\n"
    }
   }
  },
  {
   "cell_type": "markdown",
   "source": [
    "### Bloque inicial"
   ],
   "metadata": {
    "collapsed": false,
    "pycharm": {
     "name": "#%% md\n"
    }
   }
  },
  {
   "cell_type": "code",
   "execution_count": 2,
   "outputs": [
    {
     "name": "stdout",
     "text": [
      "Requirement already satisfied: pandas_datareader in c:\\users\\pc\\appdata\\local\\programs\\python\\python36\\lib\\site-packages (0.8.1)",
      "\n",
      "Requirement already satisfied: lxml in c:\\users\\pc\\appdata\\local\\programs\\python\\python36\\lib\\site-packages (from pandas_datareader) (4.4.1)",
      "\n",
      "Requirement already satisfied: requests>=2.3.0 in c:\\users\\pc\\appdata\\roaming\\python\\python36\\site-packages (from pandas_datareader) (2.22.0)",
      "\n",
      "Requirement already satisfied: pandas>=0.21 in c:\\users\\pc\\appdata\\roaming\\python\\python36\\site-packages (from pandas_datareader) (0.23.0)",
      "\n",
      "Requirement already satisfied: idna<2.9,>=2.5 in c:\\users\\pc\\appdata\\roaming\\python\\python36\\site-packages (from requests>=2.3.0->pandas_datareader) (2.8)",
      "\n",
      "Requirement already satisfied: certifi>=2017.4.17 in c:\\users\\pc\\appdata\\roaming\\python\\python36\\site-packages (from requests>=2.3.0->pandas_datareader) (2019.9.11)",
      "\n",
      "Requirement already satisfied: chardet<3.1.0,>=3.0.2 in c:\\users\\pc\\appdata\\roaming\\python\\python36\\site-packages (from requests>=2.3.0->pandas_datareader) (3.0.4)",
      "\n",
      "Requirement already satisfied: urllib3!=1.25.0,!=1.25.1,<1.26,>=1.21.1 in c:\\users\\pc\\appdata\\roaming\\python\\python36\\site-packages (from requests>=2.3.0->pandas_datareader) (1.25.6)",
      "\n",
      "Requirement already satisfied: pytz>=2011k in c:\\users\\pc\\appdata\\roaming\\python\\python36\\site-packages (from pandas>=0.21->pandas_datareader) (2018.4)",
      "\n",
      "Requirement already satisfied: python-dateutil>=2.5.0 in c:\\users\\pc\\appdata\\local\\programs\\python\\python36\\lib\\site-packages (from pandas>=0.21->pandas_datareader) (2.6.1)",
      "\n",
      "Requirement already satisfied: numpy>=1.9.0 in c:\\users\\pc\\appdata\\roaming\\python\\python36\\site-packages (from pandas>=0.21->pandas_datareader) (1.17.2)",
      "\n",
      "Requirement already satisfied: six>=1.5 in c:\\users\\pc\\appdata\\local\\programs\\python\\python36\\lib\\site-packages (from python-dateutil>=2.5.0->pandas>=0.21->pandas_datareader) (1.11.0)",
      "\n"
     ],
     "output_type": "stream"
    }
   ],
   "source": [
    "import numpy as np                  # Vectores\n",
    "import pandas as pd                 # DataFrames\n",
    "import matplotlib.pyplot as plt     # Gráficas\n",
    "import math                         # Operaciones\n",
    "import seaborn as sns               # Gráficos y controles de Scrapping\n",
    "import random                       # Muestreos aleatorios\n",
    "import quandl                       # Datasets financieros\n",
    "import yahoo_finance                # Acceso a Yahoo Finanzas\n",
    "\n",
    "from scipy import stats             # Paquetería estadística\n",
    "from scipy.stats import kstest      # Prueba de Kolmogorov-Smirnov\n",
    "from scipy.stats import beta        # Distribución Beta\n",
    "from scipy.stats import expon       # Distribución Exponencial\n",
    "from scipy.stats import uniform     # Distribución uniforme\n",
    "from scipy.stats import norm        # Distribución normal\n",
    "from scipy.stats import binom       # Distribución Binomial\n",
    "\n",
    "import pip\n",
    "from pip._internal import main\n",
    "main(['install', 'pandas_datareader'])\n",
    "#main(['install', 'fix_yahoo_finance'])\n",
    "from pandas_datareader import data as web\n",
    "#import fix_yahoo_finance\n",
    "\n",
    "\n",
    "%matplotlib inline"
   ],
   "metadata": {
    "collapsed": false,
    "pycharm": {
     "name": "#%%\n",
     "is_executing": false
    }
   }
  },
  {
   "cell_type": "markdown",
   "source": [
    "### Pregunta 1\n",
    "1.\tA partir de la serie histórica de 1 año del valor del Índice que corresponda (ver anexo),\n",
    " calcular el Valor en Riesgo (método paramétrico) con horizonte diario, semanal, mensual y anual, \n",
    " un nivel de confianza de 95.0%, 99.5% y 99.9%. "
   ],
   "metadata": {
    "collapsed": false,
    "pycharm": {
     "name": "#%% md\n"
    }
   }
  },
  {
   "cell_type": "markdown",
   "source": [
    "Usando la librería *quandl*, obtenemos los datos del S&P 500\n",
    "\n",
    "Fijamos como fecha inicial el 1° de Octubre de 2018 y\n",
    "\n",
    "como fecha final el 1° de Octubre de 2019."
   ],
   "metadata": {
    "collapsed": false,
    "pycharm": {
     "name": "#%% md\n"
    }
   }
  },
  {
   "cell_type": "code",
   "execution_count": 3,
   "outputs": [
    {
     "data": {
      "text/plain": "                   High          Low         Open        Close      Volume  \\\nDate                                                                         \n2018-10-01  2937.060059  2917.909912  2926.290039  2924.590088  3364190000   \n2018-10-02  2931.419922  2919.370117  2923.800049  2923.429932  3401880000   \n2018-10-03  2939.860107  2921.360107  2931.689941  2925.510010  3598710000   \n2018-10-04  2919.780029  2883.919922  2919.350098  2901.610107  3496860000   \n2018-10-05  2909.639893  2869.290039  2902.540039  2885.570068  3328980000   \n\n              Adj Close  \nDate                     \n2018-10-01  2924.590088  \n2018-10-02  2923.429932  \n2018-10-03  2925.510010  \n2018-10-04  2901.610107  \n2018-10-05  2885.570068  ",
      "text/html": "<div>\n<style scoped>\n    .dataframe tbody tr th:only-of-type {\n        vertical-align: middle;\n    }\n\n    .dataframe tbody tr th {\n        vertical-align: top;\n    }\n\n    .dataframe thead th {\n        text-align: right;\n    }\n</style>\n<table border=\"1\" class=\"dataframe\">\n  <thead>\n    <tr style=\"text-align: right;\">\n      <th></th>\n      <th>High</th>\n      <th>Low</th>\n      <th>Open</th>\n      <th>Close</th>\n      <th>Volume</th>\n      <th>Adj Close</th>\n    </tr>\n    <tr>\n      <th>Date</th>\n      <th></th>\n      <th></th>\n      <th></th>\n      <th></th>\n      <th></th>\n      <th></th>\n    </tr>\n  </thead>\n  <tbody>\n    <tr>\n      <th>2018-10-01</th>\n      <td>2937.060059</td>\n      <td>2917.909912</td>\n      <td>2926.290039</td>\n      <td>2924.590088</td>\n      <td>3364190000</td>\n      <td>2924.590088</td>\n    </tr>\n    <tr>\n      <th>2018-10-02</th>\n      <td>2931.419922</td>\n      <td>2919.370117</td>\n      <td>2923.800049</td>\n      <td>2923.429932</td>\n      <td>3401880000</td>\n      <td>2923.429932</td>\n    </tr>\n    <tr>\n      <th>2018-10-03</th>\n      <td>2939.860107</td>\n      <td>2921.360107</td>\n      <td>2931.689941</td>\n      <td>2925.510010</td>\n      <td>3598710000</td>\n      <td>2925.510010</td>\n    </tr>\n    <tr>\n      <th>2018-10-04</th>\n      <td>2919.780029</td>\n      <td>2883.919922</td>\n      <td>2919.350098</td>\n      <td>2901.610107</td>\n      <td>3496860000</td>\n      <td>2901.610107</td>\n    </tr>\n    <tr>\n      <th>2018-10-05</th>\n      <td>2909.639893</td>\n      <td>2869.290039</td>\n      <td>2902.540039</td>\n      <td>2885.570068</td>\n      <td>3328980000</td>\n      <td>2885.570068</td>\n    </tr>\n  </tbody>\n</table>\n</div>"
     },
     "metadata": {},
     "output_type": "execute_result",
     "execution_count": 3
    }
   ],
   "source": [
    "quandl.ApiConfig.api_key = 'aquí va la API Key'\n",
    "\n",
    "fechaInicial = pd.to_datetime('2018-10-01')\n",
    "fechaFinal = pd.to_datetime('2019-10-01')\n",
    "\n",
    "### IMPLEMENTACIÓN EN QUANDL #####\n",
    "### Armamos tabla de SP500\n",
    "### Se da el code de Quandl\n",
    "### Se especifican las columnas deseadas\n",
    "### Se asigna el intervalo de fechas\n",
    "### paginate nos permite limitar a 10,000 calls\n",
    "#datos_SP500 = quandl.get_table('BCIW/_INX',\n",
    "#                               qopts = {'columns': ['date', 'adj_close']},\n",
    "#                               date = {'gte': fechaInicial, 'lte': fechaFinal},\n",
    "#                               paginate=True)\n",
    "### FIN DE IMPLEMENTACIÓN EN QUANDL ##### \n",
    "\n",
    "### Traemos datos con frecuencia diaria\n",
    "### ^GSPC es el quote del S&P 500\n",
    "datos_SP500 = web.get_data_yahoo('^GSPC', fechaInicial, fechaFinal)\n",
    "\n",
    "datos_SP500.head()"
   ],
   "metadata": {
    "collapsed": false,
    "pycharm": {
     "name": "#%%\n",
     "is_executing": false
    }
   }
  },
  {
   "cell_type": "markdown",
   "source": [
    "Obtenemos rendimientos logaritmicos del horizonte diario:"
   ],
   "metadata": {
    "collapsed": false,
    "pycharm": {
     "name": "#%% md\n"
    }
   }
  },
  {
   "cell_type": "code",
   "execution_count": 31,
   "outputs": [
    {
     "data": {
      "text/plain": "   index       Date         High          Low         Open        Close  \\\n0      0 2018-10-01  2937.060059  2917.909912  2926.290039  2924.590088   \n1      1 2018-10-02  2931.419922  2919.370117  2923.800049  2923.429932   \n2      2 2018-10-03  2939.860107  2921.360107  2931.689941  2925.510010   \n3      3 2018-10-04  2919.780029  2883.919922  2919.350098  2901.610107   \n4      4 2018-10-05  2909.639893  2869.290039  2902.540039  2885.570068   \n\n       Volume    Adj Close  Rend_Diario       dates  \n0  3364190000  2924.590088          NaN  2018-10-01  \n1  3401880000  2923.429932    -0.000397  2018-10-02  \n2  3598710000  2925.510010     0.000711  2018-10-03  \n3  3496860000  2901.610107    -0.008203  2018-10-04  \n4  3328980000  2885.570068    -0.005543  2018-10-05  ",
      "text/html": "<div>\n<style scoped>\n    .dataframe tbody tr th:only-of-type {\n        vertical-align: middle;\n    }\n\n    .dataframe tbody tr th {\n        vertical-align: top;\n    }\n\n    .dataframe thead th {\n        text-align: right;\n    }\n</style>\n<table border=\"1\" class=\"dataframe\">\n  <thead>\n    <tr style=\"text-align: right;\">\n      <th></th>\n      <th>index</th>\n      <th>Date</th>\n      <th>High</th>\n      <th>Low</th>\n      <th>Open</th>\n      <th>Close</th>\n      <th>Volume</th>\n      <th>Adj Close</th>\n      <th>Rend_Diario</th>\n      <th>dates</th>\n    </tr>\n  </thead>\n  <tbody>\n    <tr>\n      <th>0</th>\n      <td>0</td>\n      <td>2018-10-01</td>\n      <td>2937.060059</td>\n      <td>2917.909912</td>\n      <td>2926.290039</td>\n      <td>2924.590088</td>\n      <td>3364190000</td>\n      <td>2924.590088</td>\n      <td>NaN</td>\n      <td>2018-10-01</td>\n    </tr>\n    <tr>\n      <th>1</th>\n      <td>1</td>\n      <td>2018-10-02</td>\n      <td>2931.419922</td>\n      <td>2919.370117</td>\n      <td>2923.800049</td>\n      <td>2923.429932</td>\n      <td>3401880000</td>\n      <td>2923.429932</td>\n      <td>-0.000397</td>\n      <td>2018-10-02</td>\n    </tr>\n    <tr>\n      <th>2</th>\n      <td>2</td>\n      <td>2018-10-03</td>\n      <td>2939.860107</td>\n      <td>2921.360107</td>\n      <td>2931.689941</td>\n      <td>2925.510010</td>\n      <td>3598710000</td>\n      <td>2925.510010</td>\n      <td>0.000711</td>\n      <td>2018-10-03</td>\n    </tr>\n    <tr>\n      <th>3</th>\n      <td>3</td>\n      <td>2018-10-04</td>\n      <td>2919.780029</td>\n      <td>2883.919922</td>\n      <td>2919.350098</td>\n      <td>2901.610107</td>\n      <td>3496860000</td>\n      <td>2901.610107</td>\n      <td>-0.008203</td>\n      <td>2018-10-04</td>\n    </tr>\n    <tr>\n      <th>4</th>\n      <td>4</td>\n      <td>2018-10-05</td>\n      <td>2909.639893</td>\n      <td>2869.290039</td>\n      <td>2902.540039</td>\n      <td>2885.570068</td>\n      <td>3328980000</td>\n      <td>2885.570068</td>\n      <td>-0.005543</td>\n      <td>2018-10-05</td>\n    </tr>\n  </tbody>\n</table>\n</div>"
     },
     "metadata": {},
     "output_type": "execute_result",
     "execution_count": 31
    }
   ],
   "source": [
    "dailyCloseSP = np.asarray(datos_SP500['Adj Close'])\n",
    "\n",
    "rendimientosSPDiarios = np.zeros(len(dailyCloseSP-1))\n",
    "\n",
    "for i in range(len(dailyCloseSP)-1):\n",
    "    rendimientosSPDiarios[i] = np.log(dailyCloseSP[i+1] / dailyCloseSP[i])\n",
    "\n",
    "rendimientosSPDiariospd = pd.Series(rendimientosSPDiarios)\n",
    "\n",
    "datos_SP500['Rend_Diario'] = rendimientosSPDiariospd\n",
    "\n",
    "### Movemos las columnas de rendimientos un lugar hacia abajo:\n",
    "datos_SP500['Rend_Diario'] = datos_SP500['Rend_Diario'].shift(+1)  \n",
    "\n",
    "### Las fechas son el índice de nuestro DataFrame\n",
    "### Pasamos las fechas a columna\n",
    "datos_SP500.reset_index(inplace=True,drop=False)\n",
    "\n",
    "datos_SP500.dtypes\n",
    "datos_SP500.head()"
   ],
   "metadata": {
    "collapsed": false,
    "pycharm": {
     "name": "#%%\n",
     "is_executing": false
    }
   }
  },
  {
   "cell_type": "markdown",
   "source": [
    "Visualizamos el comportamiento del S&P 500"
   ],
   "metadata": {
    "collapsed": false,
    "pycharm": {
     "name": "#%% md\n"
    }
   }
  },
  {
   "cell_type": "code",
   "execution_count": 26,
   "outputs": [
    {
     "data": {
      "text/plain": "<matplotlib.axes._subplots.AxesSubplot at 0x23cd93416d8>"
     },
     "metadata": {},
     "output_type": "execute_result",
     "execution_count": 26
    },
    {
     "data": {
      "text/plain": "<Figure size 432x288 with 1 Axes>",
      "image/png": "[encoded data removed]"
     },
     "metadata": {},
     "output_type": "display_data"
    }
   ],
   "source": [
    "datos_SP500.plot(x = 'Date', y ='Adj Close')"
   ],
   "metadata": {
    "collapsed": false,
    "pycharm": {
     "name": "#%%\n",
     "is_executing": false
    }
   }
  },
  {
   "cell_type": "markdown",
   "source": [
    "Los rendimientos podrían prensentar valores *NaN*, por lo que nos quedaremos\n",
    "sólo con los registros que sean finitos:"
   ],
   "metadata": {
    "collapsed": false,
    "pycharm": {
     "name": "#%% md\n"
    }
   }
  },
  {
   "cell_type": "code",
   "execution_count": 32,
   "outputs": [
    {
     "data": {
      "text/plain": "   index       Date         High          Low         Open        Close  \\\n1      1 2018-10-02  2931.419922  2919.370117  2923.800049  2923.429932   \n2      2 2018-10-03  2939.860107  2921.360107  2931.689941  2925.510010   \n3      3 2018-10-04  2919.780029  2883.919922  2919.350098  2901.610107   \n4      4 2018-10-05  2909.639893  2869.290039  2902.540039  2885.570068   \n5      5 2018-10-08  2889.449951  2862.080078  2877.530029  2884.429932   \n\n       Volume    Adj Close  Rend_Diario       dates  \n1  3401880000  2923.429932    -0.000397  2018-10-02  \n2  3598710000  2925.510010     0.000711  2018-10-03  \n3  3496860000  2901.610107    -0.008203  2018-10-04  \n4  3328980000  2885.570068    -0.005543  2018-10-05  \n5  3330320000  2884.429932    -0.000395  2018-10-08  ",
      "text/html": "<div>\n<style scoped>\n    .dataframe tbody tr th:only-of-type {\n        vertical-align: middle;\n    }\n\n    .dataframe tbody tr th {\n        vertical-align: top;\n    }\n\n    .dataframe thead th {\n        text-align: right;\n    }\n</style>\n<table border=\"1\" class=\"dataframe\">\n  <thead>\n    <tr style=\"text-align: right;\">\n      <th></th>\n      <th>index</th>\n      <th>Date</th>\n      <th>High</th>\n      <th>Low</th>\n      <th>Open</th>\n      <th>Close</th>\n      <th>Volume</th>\n      <th>Adj Close</th>\n      <th>Rend_Diario</th>\n      <th>dates</th>\n    </tr>\n  </thead>\n  <tbody>\n    <tr>\n      <th>1</th>\n      <td>1</td>\n      <td>2018-10-02</td>\n      <td>2931.419922</td>\n      <td>2919.370117</td>\n      <td>2923.800049</td>\n      <td>2923.429932</td>\n      <td>3401880000</td>\n      <td>2923.429932</td>\n      <td>-0.000397</td>\n      <td>2018-10-02</td>\n    </tr>\n    <tr>\n      <th>2</th>\n      <td>2</td>\n      <td>2018-10-03</td>\n      <td>2939.860107</td>\n      <td>2921.360107</td>\n      <td>2931.689941</td>\n      <td>2925.510010</td>\n      <td>3598710000</td>\n      <td>2925.510010</td>\n      <td>0.000711</td>\n      <td>2018-10-03</td>\n    </tr>\n    <tr>\n      <th>3</th>\n      <td>3</td>\n      <td>2018-10-04</td>\n      <td>2919.780029</td>\n      <td>2883.919922</td>\n      <td>2919.350098</td>\n      <td>2901.610107</td>\n      <td>3496860000</td>\n      <td>2901.610107</td>\n      <td>-0.008203</td>\n      <td>2018-10-04</td>\n    </tr>\n    <tr>\n      <th>4</th>\n      <td>4</td>\n      <td>2018-10-05</td>\n      <td>2909.639893</td>\n      <td>2869.290039</td>\n      <td>2902.540039</td>\n      <td>2885.570068</td>\n      <td>3328980000</td>\n      <td>2885.570068</td>\n      <td>-0.005543</td>\n      <td>2018-10-05</td>\n    </tr>\n    <tr>\n      <th>5</th>\n      <td>5</td>\n      <td>2018-10-08</td>\n      <td>2889.449951</td>\n      <td>2862.080078</td>\n      <td>2877.530029</td>\n      <td>2884.429932</td>\n      <td>3330320000</td>\n      <td>2884.429932</td>\n      <td>-0.000395</td>\n      <td>2018-10-08</td>\n    </tr>\n  </tbody>\n</table>\n</div>"
     },
     "metadata": {},
     "output_type": "execute_result",
     "execution_count": 32
    }
   ],
   "source": [
    "datos_SP500_finitos = datos_SP500[np.isfinite(datos_SP500['Rend_Diario'])]\n",
    "datos_SP500_finitos.head()"
   ],
   "metadata": {
    "collapsed": false,
    "pycharm": {
     "name": "#%%\n",
     "is_executing": false
    }
   }
  },
  {
   "cell_type": "markdown",
   "source": [
    "En este caso, al sólo considerar un *asset*, nuestro resultadao será:\n",
    "$$VaR_{1-q}^{SP500} = \\mu_{SP500} - (Z_{q} \\sigma_{SP500})$$\n",
    "\n",
    "Así que es necesario definir un monto de inversión y obtener \n",
    "la desviación estándar y los cuantiles deseados.\n",
    "\n",
    "En este caso, consideraremos $1,000,000 USD como la inversión.\n",
    "\n",
    "Los niveles de confianza deseados son: 95%, 99.5% y 99.9%"
   ],
   "metadata": {
    "collapsed": false,
    "pycharm": {
     "name": "#%% md\n"
    }
   }
  },
  {
   "cell_type": "code",
   "execution_count": 37,
   "outputs": [],
   "source": [
    "inversion = 1000000\n",
    "confianza1 = .95\n",
    "confianza2 = .995\n",
    "confianza3 = .999\n",
    "\n",
    "### Media y desviación de los rendimientos diarios\n",
    "muSP500Diario = datos_SP500_finitos['Rend_Diario'].mean()\n",
    "sigmaSP500Diario = datos_SP500_finitos['Rend_Diario'].std()\n",
    "\n",
    "### Cuantiles para los niveles de confianza dados\n",
    "Z1 = norm.ppf(confianza1)\n",
    "Z2 = norm.ppf(confianza2)\n",
    "Z3 = norm.ppf(confianza3)\n",
    "\n",
    "### Cálculo del VaR a distintos niveles de confianza\n",
    "VaR_SP500_Diario_1 = muSP500Diario - (Z1 * sigmaSP500Diario)\n",
    "VaR_SP500_Diario_2 = muSP500Diario - (Z2 * sigmaSP500Diario)\n",
    "VaR_SP500_Diario_3 = muSP500Diario - (Z3 * sigmaSP500Diario)\n",
    "\n",
    "### VaR expresado en moneda\n",
    "VaR_SP500_Diario_1_Currency = VaR_SP500_Diario_1 * inversion\n",
    "VaR_SP500_Diario_2_Currency = VaR_SP500_Diario_2 * inversion\n",
    "VaR_SP500_Diario_3_Currency = VaR_SP500_Diario_3 * inversion"
   ],
   "metadata": {
    "collapsed": false,
    "pycharm": {
     "name": "#%%\n",
     "is_executing": false
    }
   }
  },
  {
   "cell_type": "code",
   "execution_count": 38,
   "outputs": [
    {
     "data": {
      "text/plain": "-17478.964772360741"
     },
     "metadata": {},
     "output_type": "execute_result",
     "execution_count": 38
    }
   ],
   "source": [
    "VaR_SP500_Diario_1_Currency"
   ],
   "metadata": {
    "collapsed": false,
    "pycharm": {
     "name": "#%%\n",
     "is_executing": false
    }
   }
  },
  {
   "cell_type": "code",
   "execution_count": 39,
   "outputs": [
    {
     "data": {
      "text/plain": "-27343.356204988537"
     },
     "metadata": {},
     "output_type": "execute_result",
     "execution_count": 39
    }
   ],
   "source": [
    "VaR_SP500_Diario_2_Currency"
   ],
   "metadata": {
    "collapsed": false,
    "pycharm": {
     "name": "#%%\n",
     "is_executing": false
    }
   }
  },
  {
   "cell_type": "code",
   "execution_count": 40,
   "outputs": [
    {
     "data": {
      "text/plain": "-32793.845084029599"
     },
     "metadata": {},
     "output_type": "execute_result",
     "execution_count": 40
    }
   ],
   "source": [
    "VaR_SP500_Diario_3_Currency"
   ],
   "metadata": {
    "collapsed": false,
    "pycharm": {
     "name": "#%%\n",
     "is_executing": false
    }
   }
  },
  {
   "cell_type": "markdown",
   "source": [
    "De modo que tomando un horizonte diario, las pérdidas del S&P 500 para distintos\n",
    "niveles de confianza son:\n",
    "\n",
    "a) Confianza al 95%: Pérdida potencial de $17,478.9647\n",
    "\n",
    "b) Confianza al 99.5%: Pérdida potencial de $27,343.3562\n",
    "\n",
    "c) Confianza al 99.9%: Pérdida potencial de $32,793.8451"
   ],
   "metadata": {
    "collapsed": false,
    "pycharm": {
     "name": "#%% md\n"
    }
   }
  },
  {
   "cell_type": "markdown",
   "source": [
    "### S&P 500: Horizonte semanal"
   ],
   "metadata": {
    "collapsed": false,
    "pycharm": {
     "name": "#%% md\n"
    }
   }
  },
  {
   "cell_type": "markdown",
   "source": [
    "Basta con re-escalar nuestros parámetros a su forma semanal.\n",
    "\n",
    "Dado que los Exchanges sólo operan en días hábiles, consideramos 5 días:\n",
    "\n",
    "$$\\mu^{sem} = \\mu  5$$\n",
    "\n",
    "$$\\sigma^{sem} = \\sigma \\sqrt{5}$$"
   ],
   "metadata": {
    "collapsed": false,
    "pycharm": {
     "name": "#%% md\n"
    }
   }
  },
  {
   "cell_type": "code",
   "execution_count": 43,
   "outputs": [],
   "source": [
    "muSP500Semanal = muSP500Diario * 5\n",
    "sigmaSP500Semanal = sigmaSP500Diario * np.sqrt(5)"
   ],
   "metadata": {
    "collapsed": false,
    "pycharm": {
     "name": "#%%\n",
     "is_executing": false
    }
   }
  },
  {
   "cell_type": "markdown",
   "source": [
    "Volvemos a calcular el VaR pero con horizonte semanal:"
   ],
   "metadata": {
    "collapsed": false,
    "pycharm": {
     "name": "#%% md\n"
    }
   }
  },
  {
   "cell_type": "code",
   "execution_count": 44,
   "outputs": [],
   "source": [
    "### Cálculo del VaR a distintos niveles de confianza\n",
    "VaR_SP500_Semanal_1 = muSP500Semanal - (Z1 * sigmaSP500Semanal)\n",
    "VaR_SP500_Semanal_2 = muSP500Semanal - (Z2 * sigmaSP500Semanal)\n",
    "VaR_SP500_Semanal_3 = muSP500Semanal - (Z3 * sigmaSP500Semanal)\n",
    "\n",
    "### VaR expresado en moneda\n",
    "VaR_SP500_Semanal_1_Currency = VaR_SP500_Semanal_1 * inversion\n",
    "VaR_SP500_Semanal_2_Currency = VaR_SP500_Semanal_2 * inversion\n",
    "VaR_SP500_Semanal_3_Currency = VaR_SP500_Semanal_3 * inversion"
   ],
   "metadata": {
    "collapsed": false,
    "pycharm": {
     "name": "#%%\n",
     "is_executing": false
    }
   }
  },
  {
   "cell_type": "code",
   "execution_count": 45,
   "outputs": [
    {
     "data": {
      "text/plain": "-39223.722349062547"
     },
     "metadata": {},
     "output_type": "execute_result",
     "execution_count": 45
    }
   ],
   "source": [
    "VaR_SP500_Semanal_1_Currency"
   ],
   "metadata": {
    "collapsed": false,
    "pycharm": {
     "name": "#%%\n",
     "is_executing": false
    }
   }
  },
  {
   "cell_type": "code",
   "execution_count": 46,
   "outputs": [
    {
     "data": {
      "text/plain": "-61281.172149084829"
     },
     "metadata": {},
     "output_type": "execute_result",
     "execution_count": 46
    }
   ],
   "source": [
    "VaR_SP500_Semanal_2_Currency"
   ],
   "metadata": {
    "collapsed": false,
    "pycharm": {
     "name": "#%%\n",
     "is_executing": false
    }
   }
  },
  {
   "cell_type": "code",
   "execution_count": 47,
   "outputs": [
    {
     "data": {
      "text/plain": "-73468.835793227307"
     },
     "metadata": {},
     "output_type": "execute_result",
     "execution_count": 47
    }
   ],
   "source": [
    "VaR_SP500_Semanal_3_Currency"
   ],
   "metadata": {
    "collapsed": false,
    "pycharm": {
     "name": "#%%\n",
     "is_executing": false
    }
   }
  },
  {
   "cell_type": "markdown",
   "source": [
    "Nuestros resultados con horizonte semanal son:\n",
    "\n",
    "a) Confianza 95%: Pérdida potencial de $39,223.7223\n",
    "\n",
    "b) Confianza 99.5%: Pérdida potncial de $61,281.1721\n",
    "\n",
    "c) Confianza 99.9%: Pérdida potencial de $73,468.8357"
   ],
   "metadata": {
    "collapsed": false,
    "pycharm": {
     "name": "#%% md\n"
    }
   }
  },
  {
   "cell_type": "markdown",
   "source": [
    "### Horizonte Mensual"
   ],
   "metadata": {
    "collapsed": false,
    "pycharm": {
     "name": "#%% md\n"
    }
   }
  },
  {
   "cell_type": "markdown",
   "source": [
    "Nuestro escalamiento ahora es:\n",
    "\n",
    "$$\\mu^{men} = \\mu 30$$\n",
    "\n",
    "$$\\sigma^{men} = \\sigma \\sqrt{30}$$"
   ],
   "metadata": {
    "collapsed": false,
    "pycharm": {
     "name": "#%% md\n"
    }
   }
  },
  {
   "cell_type": "code",
   "execution_count": 48,
   "outputs": [],
   "source": [
    "muSP500Mensual = muSP500Diario * 30\n",
    "sigmaSP500Mensual = sigmaSP500Diario * np.sqrt(30)"
   ],
   "metadata": {
    "collapsed": false,
    "pycharm": {
     "name": "#%%\n",
     "is_executing": false
    }
   }
  },
  {
   "cell_type": "markdown",
   "source": [
    "Volvemos a calcular el VaR pero con horizonte mensual:"
   ],
   "metadata": {
    "collapsed": false
   }
  },
  {
   "cell_type": "code",
   "execution_count": 49,
   "outputs": [],
   "source": [
    "### Cálculo del VaR a distintos niveles de confianza\n",
    "VaR_SP500_Mensual_1 = muSP500Mensual - (Z1 * sigmaSP500Mensual)\n",
    "VaR_SP500_Mensual_2 = muSP500Mensual - (Z2 * sigmaSP500Mensual)\n",
    "VaR_SP500_Mensual_3 = muSP500Mensual - (Z3 * sigmaSP500Mensual)\n",
    "\n",
    "### VaR expresado en moneda\n",
    "VaR_SP500_Mensual_1_Currency = VaR_SP500_Mensual_1 * inversion\n",
    "VaR_SP500_Mensual_2_Currency = VaR_SP500_Mensual_2 * inversion\n",
    "VaR_SP500_Mensual_3_Currency = VaR_SP500_Mensual_3 * inversion"
   ],
   "metadata": {
    "collapsed": false,
    "pycharm": {
     "name": "#%%\n",
     "is_executing": false
    }
   }
  },
  {
   "cell_type": "code",
   "execution_count": 50,
   "outputs": [
    {
     "data": {
      "text/plain": "-96974.547584470871"
     },
     "metadata": {},
     "output_type": "execute_result",
     "execution_count": 50
    }
   ],
   "source": [
    "VaR_SP500_Mensual_1_Currency"
   ],
   "metadata": {
    "collapsed": false,
    "pycharm": {
     "name": "#%%\n",
     "is_executing": false
    }
   }
  },
  {
   "cell_type": "code",
   "execution_count": 51,
   "outputs": [
    {
     "data": {
      "text/plain": "-151004.04462158031"
     },
     "metadata": {},
     "output_type": "execute_result",
     "execution_count": 51
    }
   ],
   "source": [
    "VaR_SP500_Mensual_2_Currency"
   ],
   "metadata": {
    "collapsed": false,
    "pycharm": {
     "name": "#%%\n",
     "is_executing": false
    }
   }
  },
  {
   "cell_type": "code",
   "execution_count": 52,
   "outputs": [
    {
     "data": {
      "text/plain": "-180857.60170639874"
     },
     "metadata": {},
     "output_type": "execute_result",
     "execution_count": 52
    }
   ],
   "source": [
    "VaR_SP500_Mensual_3_Currency"
   ],
   "metadata": {
    "collapsed": false,
    "pycharm": {
     "name": "#%%\n",
     "is_executing": false
    }
   }
  },
  {
   "cell_type": "markdown",
   "source": [
    "Nuestros resultados con horizonte semanal:\n",
    "\n",
    "a) Confianza 95%: Pérdida potencial de $96,974.5475\n",
    "\n",
    "b) Confianza 99.5%: Pérdida potencial de $151,004.0446\n",
    "\n",
    "c) COnfianza 99.9%: Pédida potencial de $180,857.6017"
   ],
   "metadata": {
    "collapsed": false,
    "pycharm": {
     "name": "#%% md\n"
    }
   }
  },
  {
   "cell_type": "markdown",
   "source": [
    "### Horizonte Anual"
   ],
   "metadata": {
    "collapsed": false,
    "pycharm": {
     "name": "#%% md\n"
    }
   }
  },
  {
   "cell_type": "markdown",
   "source": [
    "Nuestro escalamiento es:\n",
    "\n",
    "$$\\mu^{anual} = \\mu 252$$\n",
    "\n",
    "$$\\sigma^{anual} = \\sigma \\sqrt{252}$$"
   ],
   "metadata": {
    "collapsed": false,
    "pycharm": {
     "name": "#%% md\n"
    }
   }
  },
  {
   "cell_type": "code",
   "execution_count": 53,
   "outputs": [],
   "source": [
    "muSP500Anual = muSP500Diario * 252\n",
    "sigmaSP500Anual = sigmaSP500Diario * np.sqrt(252)"
   ],
   "metadata": {
    "collapsed": false,
    "pycharm": {
     "name": "#%%\n",
     "is_executing": false
    }
   }
  },
  {
   "cell_type": "markdown",
   "source": [
    "Volvemos a calcular el VaR pero con horizonte mensual:"
   ],
   "metadata": {
    "collapsed": false
   }
  },
  {
   "cell_type": "code",
   "execution_count": 55,
   "outputs": [],
   "source": [
    "### Cálculo del VaR a distintos niveles de confianza\n",
    "VaR_SP500_Anual_1 = muSP500Anual - (Z1 * sigmaSP500Anual)\n",
    "VaR_SP500_Anual_2 = muSP500Anual - (Z2 * sigmaSP500Anual)\n",
    "VaR_SP500_Anual_3 = muSP500Anual - (Z3 * sigmaSP500Anual)\n",
    "\n",
    "### VaR expresado en moneda\n",
    "VaR_SP500_Anual_1_Currency = VaR_SP500_Anual_1 * inversion\n",
    "VaR_SP500_Anual_2_Currency = VaR_SP500_Anual_2 * inversion\n",
    "VaR_SP500_Anual_3_Currency = VaR_SP500_Anual_3 * inversion"
   ],
   "metadata": {
    "collapsed": false,
    "pycharm": {
     "name": "#%%\n",
     "is_executing": false
    }
   }
  },
  {
   "cell_type": "code",
   "execution_count": 56,
   "outputs": [
    {
     "data": {
      "text/plain": "-289393.47882059921"
     },
     "metadata": {},
     "output_type": "execute_result",
     "execution_count": 56
    }
   ],
   "source": [
    "VaR_SP500_Anual_1_Currency"
   ],
   "metadata": {
    "collapsed": false,
    "pycharm": {
     "name": "#%%\n",
     "is_executing": false
    }
   }
  },
  {
   "cell_type": "code",
   "execution_count": 57,
   "outputs": [
    {
     "data": {
      "text/plain": "-445985.83821497497"
     },
     "metadata": {},
     "output_type": "execute_result",
     "execution_count": 57
    }
   ],
   "source": [
    "VaR_SP500_Anual_2_Currency"
   ],
   "metadata": {
    "collapsed": false,
    "pycharm": {
     "name": "#%%\n",
     "is_executing": false
    }
   }
  },
  {
   "cell_type": "code",
   "execution_count": 58,
   "outputs": [
    {
     "data": {
      "text/plain": "-532509.66680097021"
     },
     "metadata": {},
     "output_type": "execute_result",
     "execution_count": 58
    }
   ],
   "source": [
    "VaR_SP500_Anual_3_Currency"
   ],
   "metadata": {
    "collapsed": false,
    "pycharm": {
     "name": "#%%\n",
     "is_executing": false
    }
   }
  },
  {
   "cell_type": "markdown",
   "source": [
    "Nuestros resultados con horizonte anual son:\n",
    "\n",
    "a) Confianza 95%: Pérdida potencial de $289,393.4788\n",
    "\n",
    "b) COnfianza 99.5%: Pérdida potencial de $445,985.8382\n",
    "\n",
    "c) Confianza 99.9%: Pérdida potencial de $532,509.6668"
   ],
   "metadata": {
    "collapsed": false,
    "pycharm": {
     "name": "#%% md\n"
    }
   }
  },
  {
   "cell_type": "markdown",
   "source": [
    "### Pregunta 2.\n",
    "2.\tRealizar el mismo ejercicio señalado en el inciso 1, pero considere la distribución empírica \n",
    "de las variaciones del índice, compare resultados e interprete.\n",
    "\n",
    "**Solución**\n",
    "\n",
    "Es necesario tomar percentiles acorde a los niveles de confianza deseados:"
   ],
   "metadata": {
    "collapsed": false,
    "pycharm": {
     "name": "#%% md\n"
    }
   }
  },
  {
   "cell_type": "code",
   "execution_count": 67,
   "outputs": [],
   "source": [
    "rendimentos_SP500 = np.asarray(datos_SP500_finitos['Rend_Diario'])\n",
    "\n",
    "VaR_SP500_Empirico_1 = np.percentile(rendimentos_SP500, (confianza1 * 100))\n",
    "VaR_SP500_Empirico_2 = np.percentile(rendimentos_SP500, (confianza2 * 100))\n",
    "VaR_SP500_Empirico_3 = np.percentile(rendimentos_SP500, (confianza3 * 100))\n",
    "\n",
    "VaR_SP500_Empirico_1_Currency = VaR_SP500_Empirico_1 * inversion\n",
    "VaR_SP500_Empirico_2_Currency = VaR_SP500_Empirico_2 * inversion\n",
    "VaR_SP500_Empirico_3_Currency = VaR_SP500_Empirico_3 * inversion"
   ],
   "metadata": {
    "collapsed": false,
    "pycharm": {
     "name": "#%%\n",
     "is_executing": false
    }
   }
  },
  {
   "cell_type": "code",
   "execution_count": 68,
   "outputs": [
    {
     "data": {
      "text/plain": "14429.472998304998"
     },
     "metadata": {},
     "output_type": "execute_result",
     "execution_count": 68
    }
   ],
   "source": [
    "VaR_SP500_Empirico_1_Currency"
   ],
   "metadata": {
    "collapsed": false,
    "pycharm": {
     "name": "#%%\n",
     "is_executing": false
    }
   }
  },
  {
   "cell_type": "code",
   "execution_count": 69,
   "outputs": [
    {
     "data": {
      "text/plain": "30942.835382252182"
     },
     "metadata": {},
     "output_type": "execute_result",
     "execution_count": 69
    }
   ],
   "source": [
    "VaR_SP500_Empirico_2_Currency"
   ],
   "metadata": {
    "collapsed": false,
    "pycharm": {
     "name": "#%%\n",
     "is_executing": false
    }
   }
  },
  {
   "cell_type": "code",
   "execution_count": 70,
   "outputs": [
    {
     "data": {
      "text/plain": "44727.58923958028"
     },
     "metadata": {},
     "output_type": "execute_result",
     "execution_count": 70
    }
   ],
   "source": [
    "VaR_SP500_Empirico_3_Currency"
   ],
   "metadata": {
    "collapsed": false,
    "pycharm": {
     "name": "#%%\n",
     "is_executing": false
    }
   }
  },
  {
   "cell_type": "markdown",
   "source": [
    "Entonces, nuestros resultados son\n",
    "\n",
    "a) COnfianza 95%: Pérdida potencial (empírica) de $14,429.4729\n",
    "\n",
    "b) Confianza 99.5%: Pérdida potencial (empírica) de $30,942.8353\n",
    "\n",
    "c) Confianza 99.9%: Pérdida potencial (empírica) de $44,727.5892"
   ],
   "metadata": {
    "collapsed": false,
    "pycharm": {
     "name": "#%% md\n"
    }
   }
  },
  {
   "cell_type": "markdown",
   "source": [
    "### Pregunta 3\n",
    "\n",
    "3.\tDetermine el VAR paramétrico diario y semanal del tipo de cambio para el Yen \n",
    "Japonés, con una confianza del 95%, 99.5% y 99.9%\n",
    "\n",
    "**Solución**\n",
    "\n",
    "Primero es necesario obtener los datos del tipo de cambio PESO/YEN:\n",
    "La fuente de la serie histórica esta vez será el Banco de México, liga\n",
    "a continuación:\n",
    "\n",
    "Link: http://www.anterior.banxico.org.mx/SieInternet/consultarDirectorioInternetAction.do?sector=6&accion=consultarCuadro&idCuadro=CF307&locale=es\n",
    "\n",
    "Utilizaremos *Pandas* para leer los datos:"
   ],
   "metadata": {
    "collapsed": false,
    "pycharm": {
     "name": "#%% md\n"
    }
   }
  },
  {
   "cell_type": "code",
   "execution_count": 7,
   "outputs": [
    {
     "data": {
      "text/plain": "        Fecha     Yen\n0  01/10/2018  0.1636\n1  02/10/2018  0.1648\n2  03/10/2018  0.1652\n3  04/10/2018  0.1674\n4  05/10/2018  0.1664",
      "text/html": "<div>\n<style scoped>\n    .dataframe tbody tr th:only-of-type {\n        vertical-align: middle;\n    }\n\n    .dataframe tbody tr th {\n        vertical-align: top;\n    }\n\n    .dataframe thead th {\n        text-align: right;\n    }\n</style>\n<table border=\"1\" class=\"dataframe\">\n  <thead>\n    <tr style=\"text-align: right;\">\n      <th></th>\n      <th>Fecha</th>\n      <th>Yen</th>\n    </tr>\n  </thead>\n  <tbody>\n    <tr>\n      <th>0</th>\n      <td>01/10/2018</td>\n      <td>0.1636</td>\n    </tr>\n    <tr>\n      <th>1</th>\n      <td>02/10/2018</td>\n      <td>0.1648</td>\n    </tr>\n    <tr>\n      <th>2</th>\n      <td>03/10/2018</td>\n      <td>0.1652</td>\n    </tr>\n    <tr>\n      <th>3</th>\n      <td>04/10/2018</td>\n      <td>0.1674</td>\n    </tr>\n    <tr>\n      <th>4</th>\n      <td>05/10/2018</td>\n      <td>0.1664</td>\n    </tr>\n  </tbody>\n</table>\n</div>"
     },
     "metadata": {},
     "output_type": "execute_result",
     "execution_count": 7
    }
   ],
   "source": [
    "ruta = 'C:/Users/PC/Desktop/ULSA/7 Semestre/Admon de Riesgos/Tipo_Cambio_MXN_JPY.csv'\n",
    "\n",
    "datos_Yen = pd.read_csv(ruta)\n",
    "\n",
    "datos_Yen.head()"
   ],
   "metadata": {
    "collapsed": false,
    "pycharm": {
     "name": "#%%\n",
     "is_executing": false
    }
   }
  },
  {
   "cell_type": "markdown",
   "source": [
    "Obtengamos ahora los rendimientos:"
   ],
   "metadata": {
    "collapsed": false,
    "pycharm": {
     "name": "#%% md\n"
    }
   }
  },
  {
   "cell_type": "code",
   "execution_count": 8,
   "outputs": [
    {
     "data": {
      "text/plain": "        Fecha     Yen  Rend_Yen_Diarios\n0  01/10/2018  0.1636               NaN\n1  02/10/2018  0.1648          0.007308\n2  03/10/2018  0.1652          0.002424\n3  04/10/2018  0.1674          0.013229\n4  05/10/2018  0.1664         -0.005992",
      "text/html": "<div>\n<style scoped>\n    .dataframe tbody tr th:only-of-type {\n        vertical-align: middle;\n    }\n\n    .dataframe tbody tr th {\n        vertical-align: top;\n    }\n\n    .dataframe thead th {\n        text-align: right;\n    }\n</style>\n<table border=\"1\" class=\"dataframe\">\n  <thead>\n    <tr style=\"text-align: right;\">\n      <th></th>\n      <th>Fecha</th>\n      <th>Yen</th>\n      <th>Rend_Yen_Diarios</th>\n    </tr>\n  </thead>\n  <tbody>\n    <tr>\n      <th>0</th>\n      <td>01/10/2018</td>\n      <td>0.1636</td>\n      <td>NaN</td>\n    </tr>\n    <tr>\n      <th>1</th>\n      <td>02/10/2018</td>\n      <td>0.1648</td>\n      <td>0.007308</td>\n    </tr>\n    <tr>\n      <th>2</th>\n      <td>03/10/2018</td>\n      <td>0.1652</td>\n      <td>0.002424</td>\n    </tr>\n    <tr>\n      <th>3</th>\n      <td>04/10/2018</td>\n      <td>0.1674</td>\n      <td>0.013229</td>\n    </tr>\n    <tr>\n      <th>4</th>\n      <td>05/10/2018</td>\n      <td>0.1664</td>\n      <td>-0.005992</td>\n    </tr>\n  </tbody>\n</table>\n</div>"
     },
     "metadata": {},
     "output_type": "execute_result",
     "execution_count": 8
    }
   ],
   "source": [
    "closeYen = np.asarray(datos_Yen['Yen'])\n",
    "rendimientosYen = np.zeros(len(closeYen)-1)\n",
    "\n",
    "for i in range(len(rendimientosYen)):\n",
    "    rendimientosYen[i] = np.log(closeYen[i+1] / closeYen[i])\n",
    "\n",
    "rendimientosYenPd = pd.Series(rendimientosYen)\n",
    "\n",
    "datos_Yen['Rend_Yen_Diarios'] = rendimientosYenPd\n",
    "\n",
    "### Recorremos los rendimientos un lugar\n",
    "datos_Yen['Rend_Yen_Diarios'] = datos_Yen['Rend_Yen_Diarios'].shift(+1)\n",
    "\n",
    "datos_Yen.head()"
   ],
   "metadata": {
    "collapsed": false,
    "pycharm": {
     "name": "#%%\n",
     "is_executing": false
    }
   }
  },
  {
   "cell_type": "markdown",
   "source": [
    "Visualizando el comportamiento del tipo de cambio del Yen:"
   ],
   "metadata": {
    "collapsed": false,
    "pycharm": {
     "name": "#%% md\n"
    }
   }
  },
  {
   "cell_type": "code",
   "execution_count": 9,
   "outputs": [
    {
     "data": {
      "text/plain": "<matplotlib.axes._subplots.AxesSubplot at 0x22eff5479e8>"
     },
     "metadata": {},
     "output_type": "execute_result",
     "execution_count": 9
    },
    {
     "data": {
      "text/plain": "<Figure size 432x288 with 1 Axes>",
      "image/png": "[encoded data removed]"
     },
     "metadata": {},
     "output_type": "display_data"
    }
   ],
   "source": [
    "datos_Yen.plot(x='Fecha', y='Yen')"
   ],
   "metadata": {
    "collapsed": false,
    "pycharm": {
     "name": "#%%\n",
     "is_executing": false
    }
   }
  },
  {
   "cell_type": "markdown",
   "source": [
    "Obtengamos DataFrame con valores finitos para los rendimientos:"
   ],
   "metadata": {
    "collapsed": false,
    "pycharm": {
     "name": "#%% md\n"
    }
   }
  },
  {
   "cell_type": "code",
   "execution_count": 10,
   "outputs": [
    {
     "data": {
      "text/plain": "        Fecha     Yen  Rend_Yen_Diarios\n1  02/10/2018  0.1648          0.007308\n2  03/10/2018  0.1652          0.002424\n3  04/10/2018  0.1674          0.013229\n4  05/10/2018  0.1664         -0.005992\n5  08/10/2018  0.1673          0.005394",
      "text/html": "<div>\n<style scoped>\n    .dataframe tbody tr th:only-of-type {\n        vertical-align: middle;\n    }\n\n    .dataframe tbody tr th {\n        vertical-align: top;\n    }\n\n    .dataframe thead th {\n        text-align: right;\n    }\n</style>\n<table border=\"1\" class=\"dataframe\">\n  <thead>\n    <tr style=\"text-align: right;\">\n      <th></th>\n      <th>Fecha</th>\n      <th>Yen</th>\n      <th>Rend_Yen_Diarios</th>\n    </tr>\n  </thead>\n  <tbody>\n    <tr>\n      <th>1</th>\n      <td>02/10/2018</td>\n      <td>0.1648</td>\n      <td>0.007308</td>\n    </tr>\n    <tr>\n      <th>2</th>\n      <td>03/10/2018</td>\n      <td>0.1652</td>\n      <td>0.002424</td>\n    </tr>\n    <tr>\n      <th>3</th>\n      <td>04/10/2018</td>\n      <td>0.1674</td>\n      <td>0.013229</td>\n    </tr>\n    <tr>\n      <th>4</th>\n      <td>05/10/2018</td>\n      <td>0.1664</td>\n      <td>-0.005992</td>\n    </tr>\n    <tr>\n      <th>5</th>\n      <td>08/10/2018</td>\n      <td>0.1673</td>\n      <td>0.005394</td>\n    </tr>\n  </tbody>\n</table>\n</div>"
     },
     "metadata": {},
     "output_type": "execute_result",
     "execution_count": 10
    }
   ],
   "source": [
    "datos_Yen_finitos = datos_Yen[np.isfinite(datos_Yen['Rend_Yen_Diarios'])]\n",
    "datos_Yen_finitos.head()"
   ],
   "metadata": {
    "collapsed": false,
    "pycharm": {
     "name": "#%%\n",
     "is_executing": false
    }
   }
  },
  {
   "cell_type": "markdown",
   "source": [
    "Obtenemos media y desviación estándard:"
   ],
   "metadata": {
    "collapsed": false,
    "pycharm": {
     "name": "#%% md\n"
    }
   }
  },
  {
   "cell_type": "code",
   "execution_count": 12,
   "outputs": [],
   "source": [
    "inversion = 1000000\n",
    "confianza1 = .95\n",
    "confianza2 = .995\n",
    "confianza3 = .999\n",
    "\n",
    "Z1 = norm.ppf(confianza1)\n",
    "Z2 = norm.ppf(confianza2)\n",
    "Z3 = norm.ppf(confianza3)\n",
    "\n",
    "muYenDiario = datos_Yen_finitos['Rend_Yen_Diarios'].mean()\n",
    "sigmaYenDiario = datos_Yen_finitos['Rend_Yen_Diarios'].std()"
   ],
   "metadata": {
    "collapsed": false,
    "pycharm": {
     "name": "#%%\n",
     "is_executing": false
    }
   }
  },
  {
   "cell_type": "markdown",
   "source": [
    "Ya podemos calcular el VaR acorde a nuestros niveles de confianza:"
   ],
   "metadata": {
    "collapsed": false,
    "pycharm": {
     "name": "#%% md\n"
    }
   }
  },
  {
   "cell_type": "code",
   "execution_count": 13,
   "outputs": [],
   "source": [
    "VaR_Yen_Diario_1 = muYenDiario - (Z1 * sigmaYenDiario)\n",
    "VaR_Yen_Diario_2 = muYenDiario - (Z2 * sigmaYenDiario)\n",
    "VaR_Yen_Diario_3 = muYenDiario - (Z3 * sigmaYenDiario)\n",
    "\n",
    "### Expresamos en porcentaje\n",
    "VaR_Yen_Diario_1_Pct = VaR_Yen_Diario_1 * 100\n",
    "VaR_Yen_Diario_2_Pct = VaR_Yen_Diario_2 * 100\n",
    "VaR_Yen_Diario_3_Pct = VaR_Yen_Diario_3 * 100\n",
    "\n",
    "### Expresamos en términos de pesos\n",
    "VaR_Yen_Diario_1_Pesos = VaR_Yen_Diario_1 * inversion\n",
    "VaR_Yen_Diario_2_Pesos = VaR_Yen_Diario_2 * inversion\n",
    "VaR_Yen_Diario_3_Pesos = VaR_Yen_Diario_3 * inversion"
   ],
   "metadata": {
    "collapsed": false,
    "pycharm": {
     "name": "#%%\n",
     "is_executing": false
    }
   }
  },
  {
   "cell_type": "code",
   "execution_count": 14,
   "outputs": [
    {
     "data": {
      "text/plain": "-11597.156158663838"
     },
     "metadata": {},
     "output_type": "execute_result",
     "execution_count": 14
    }
   ],
   "source": [
    "VaR_Yen_Diario_1_Pesos"
   ],
   "metadata": {
    "collapsed": false,
    "pycharm": {
     "name": "#%%\n",
     "is_executing": false
    }
   }
  },
  {
   "cell_type": "code",
   "execution_count": 15,
   "outputs": [
    {
     "data": {
      "text/plain": "-18411.055781432544"
     },
     "metadata": {},
     "output_type": "execute_result",
     "execution_count": 15
    }
   ],
   "source": [
    "VaR_Yen_Diario_2_Pesos"
   ],
   "metadata": {
    "collapsed": false,
    "pycharm": {
     "name": "#%%\n",
     "is_executing": false
    }
   }
  },
  {
   "cell_type": "code",
   "execution_count": 16,
   "outputs": [
    {
     "data": {
      "text/plain": "-22176.020338086335"
     },
     "metadata": {},
     "output_type": "execute_result",
     "execution_count": 16
    }
   ],
   "source": [
    "VaR_Yen_Diario_3_Pesos"
   ],
   "metadata": {
    "collapsed": false,
    "pycharm": {
     "name": "#%%\n",
     "is_executing": false
    }
   }
  },
  {
   "cell_type": "markdown",
   "source": [
    "Nuestros resultados con horizonte diario son:\n",
    "\n",
    "a) Confianza 95%: Pérdida potencial de $11,597.1561\n",
    "\n",
    "b) Confianza 99.5%: Pérdida potencial de $18,411.0557\n",
    "\n",
    "c) Confianza 99.9%: Pérdida potencial de $22,176.0203"
   ],
   "metadata": {
    "collapsed": false,
    "pycharm": {
     "name": "#%% md\n"
    }
   }
  },
  {
   "cell_type": "markdown",
   "source": [
    "Eescalamos nuestros parámetros para obtener horizonte semanal"
   ],
   "metadata": {
    "collapsed": false,
    "pycharm": {
     "name": "#%% md\n"
    }
   }
  },
  {
   "cell_type": "code",
   "execution_count": 17,
   "outputs": [],
   "source": [
    "muYenSemanal = 5 * muYenDiario\n",
    "sigmaYenSemanal = sigmaYenDiario * np.sqrt(5)"
   ],
   "metadata": {
    "collapsed": false,
    "pycharm": {
     "name": "#%%\n",
     "is_executing": false
    }
   }
  },
  {
   "cell_type": "markdown",
   "source": [
    "Obtenemos VaR de horizonte semanal:"
   ],
   "metadata": {
    "collapsed": false,
    "pycharm": {
     "name": "#%% md\n"
    }
   }
  },
  {
   "cell_type": "code",
   "execution_count": 18,
   "outputs": [],
   "source": [
    "VaR_Yen_Semanal_1 = muYenSemanal - (Z1 * sigmaYenSemanal)\n",
    "VaR_Yen_Semanal_2 = muYenSemanal - (Z2 * sigmaYenSemanal)\n",
    "VaR_Yen_Semanal_3 = muYenSemanal - (Z3 * sigmaYenSemanal)\n",
    "\n",
    "### Expresamos en porcentaje\n",
    "VaR_Yen_Semanal_1_Pct = VaR_Yen_Semanal_1 * 100\n",
    "VaR_Yen_Semanal_2_Pct = VaR_Yen_Semanal_2 * 100\n",
    "VaR_Yen_Semanal_3_Pct = VaR_Yen_Semanal_3 * 100\n",
    "\n",
    "### Expresamos en pesos\n",
    "VaR_Yen_Semanal_1_Pesos = VaR_Yen_Semanal_1 * inversion\n",
    "VaR_Yen_Semanal_2_Pesos = VaR_Yen_Semanal_2 * inversion\n",
    "VaR_Yen_Semanal_3_Pesos = VaR_Yen_Semanal_3 * inversion"
   ],
   "metadata": {
    "collapsed": false,
    "pycharm": {
     "name": "#%%\n",
     "is_executing": false
    }
   }
  },
  {
   "cell_type": "code",
   "execution_count": null,
   "outputs": [],
   "source": [
    "VaR_Yen_Semanal_1_Pesos"
   ],
   "metadata": {
    "collapsed": false,
    "pycharm": {
     "name": "#%%\n",
     "is_executing": true
    }
   }
  },
  {
   "cell_type": "code",
   "execution_count": null,
   "outputs": [],
   "source": [
    "VaR_Yen_Semanal_2_Pesos"
   ],
   "metadata": {
    "collapsed": false,
    "pycharm": {
     "name": "#%%\n",
     "is_executing": true
    }
   }
  },
  {
   "cell_type": "code",
   "execution_count": null,
   "outputs": [],
   "source": [
    "VaR_Yen_Semanal_3_Pesos"
   ],
   "metadata": {
    "collapsed": false,
    "pycharm": {
     "name": "#%%\n",
     "is_executing": true
    }
   }
  },
  {
   "cell_type": "markdown",
   "source": [
    "Nuestros resultados para horizonte semanal son:\n",
    "\n",
    "a) Confianza 95%: Pérdida potencial de $24,711.2445\n",
    "\n",
    "b) Confianza 99.5%: Pérdida potencial de $39,947.5872\n",
    "\n",
    "c) Confianza 99.9%: Pérdida potencial de $48,366.3039"
   ],
   "metadata": {
    "collapsed": false,
    "pycharm": {
     "name": "#%% md\n"
    }
   }
  },
  {
   "cell_type": "markdown",
   "source": [
    "### Pregunta 4\n",
    "\n",
    "4.\tLas reservas técnicas de una compañía de seguros se encuentran invertidas en un \n",
    "portafolio que consta de tres activos (deberán elegir 4 emisoras que cotizan en la BMV).\n",
    "En el caso de la acción 1 adquirió 25,536 títulos, para la acción 2 adquirió 17,450 \n",
    "títulos y para la acción 3 adquirió 11,415 títulos. \n",
    "\n",
    "a)\tDeterminar el valor en riesgo del portafolio (Var Diversificado-Paramétrico) con \n",
    "horizonte diario, a un nivel de confianza del 99.5%, considere el dato del \n",
    "último precio de cierre de cada acción para hacer la valuación del portafolio. \n",
    " \n",
    "b)\tPara el ejercicio anterior, determine cuáles son los porcentajes de participación\n",
    "óptimos que se deben invertir en cada acción de manera que el VAR sea el mínimo"
   ],
   "metadata": {
    "collapsed": false,
    "pycharm": {
     "name": "#%% md\n"
    }
   }
  },
  {
   "cell_type": "markdown",
   "source": [
    "**Solución**\n",
    "Para considerar un portafolio diversificado, tomaremos como compañías a \n",
    "\n",
    "a) Peñoles\n",
    "b) Televisa\n",
    "c) América Móvil\n",
    "\n",
    "En ese mismo orden se hará la asignación de títulos.\n",
    "\n",
    "Tomamos entonces los datos de Yahoo Finance:"
   ],
   "metadata": {
    "collapsed": false,
    "pycharm": {
     "name": "#%% md\n"
    }
   }
  },
  {
   "cell_type": "code",
   "execution_count": 4,
   "outputs": [],
   "source": [
    "datos_Penoles = web.get_data_yahoo('PE&OLES.MX', fechaInicial, fechaFinal)\n",
    "datos_Televisa = web.get_data_yahoo('TLEVISACPO.MX', fechaInicial, fechaFinal)\n",
    "datos_Amovil = web.get_data_yahoo('AMXL.MX', fechaInicial, fechaFinal)"
   ],
   "metadata": {
    "collapsed": false,
    "pycharm": {
     "name": "#%%\n",
     "is_executing": false
    }
   }
  },
  {
   "cell_type": "markdown",
   "source": [
    "Datos de Peñoles"
   ],
   "metadata": {
    "collapsed": false,
    "pycharm": {
     "name": "#%% md\n"
    }
   }
  },
  {
   "cell_type": "code",
   "execution_count": 5,
   "outputs": [
    {
     "data": {
      "text/plain": "                  High         Low        Open       Close    Volume  \\\nDate                                                                   \n2018-10-01  325.799988  320.010010  322.000000  322.600006  270430.0   \n2018-10-02  329.790009  322.630005  322.630005  328.649994  248141.0   \n2018-10-03  330.890015  322.000000  327.660004  323.000000  134916.0   \n2018-10-04  327.019989  320.000000  323.799988  322.089996  236310.0   \n2018-10-05  329.799988  320.109985  325.250000  328.399994  314729.0   \n\n             Adj Close  \nDate                    \n2018-10-01  309.368011  \n2018-10-02  315.169830  \n2018-10-03  309.751587  \n2018-10-04  308.878906  \n2018-10-05  314.930115  ",
      "text/html": "<div>\n<style scoped>\n    .dataframe tbody tr th:only-of-type {\n        vertical-align: middle;\n    }\n\n    .dataframe tbody tr th {\n        vertical-align: top;\n    }\n\n    .dataframe thead th {\n        text-align: right;\n    }\n</style>\n<table border=\"1\" class=\"dataframe\">\n  <thead>\n    <tr style=\"text-align: right;\">\n      <th></th>\n      <th>High</th>\n      <th>Low</th>\n      <th>Open</th>\n      <th>Close</th>\n      <th>Volume</th>\n      <th>Adj Close</th>\n    </tr>\n    <tr>\n      <th>Date</th>\n      <th></th>\n      <th></th>\n      <th></th>\n      <th></th>\n      <th></th>\n      <th></th>\n    </tr>\n  </thead>\n  <tbody>\n    <tr>\n      <th>2018-10-01</th>\n      <td>325.799988</td>\n      <td>320.010010</td>\n      <td>322.000000</td>\n      <td>322.600006</td>\n      <td>270430.0</td>\n      <td>309.368011</td>\n    </tr>\n    <tr>\n      <th>2018-10-02</th>\n      <td>329.790009</td>\n      <td>322.630005</td>\n      <td>322.630005</td>\n      <td>328.649994</td>\n      <td>248141.0</td>\n      <td>315.169830</td>\n    </tr>\n    <tr>\n      <th>2018-10-03</th>\n      <td>330.890015</td>\n      <td>322.000000</td>\n      <td>327.660004</td>\n      <td>323.000000</td>\n      <td>134916.0</td>\n      <td>309.751587</td>\n    </tr>\n    <tr>\n      <th>2018-10-04</th>\n      <td>327.019989</td>\n      <td>320.000000</td>\n      <td>323.799988</td>\n      <td>322.089996</td>\n      <td>236310.0</td>\n      <td>308.878906</td>\n    </tr>\n    <tr>\n      <th>2018-10-05</th>\n      <td>329.799988</td>\n      <td>320.109985</td>\n      <td>325.250000</td>\n      <td>328.399994</td>\n      <td>314729.0</td>\n      <td>314.930115</td>\n    </tr>\n  </tbody>\n</table>\n</div>"
     },
     "metadata": {},
     "output_type": "execute_result",
     "execution_count": 5
    }
   ],
   "source": [
    "datos_Penoles.head()"
   ],
   "metadata": {
    "collapsed": false,
    "pycharm": {
     "name": "#%%\n",
     "is_executing": false
    }
   }
  },
  {
   "cell_type": "markdown",
   "source": [
    "Datos de Televisa"
   ],
   "metadata": {
    "collapsed": false,
    "pycharm": {
     "name": "#%% md\n"
    }
   }
  },
  {
   "cell_type": "code",
   "execution_count": 6,
   "outputs": [
    {
     "data": {
      "text/plain": "                 High        Low       Open      Close     Volume  Adj Close\nDate                                                                        \n2018-10-01  67.510002  66.239998  66.440002  67.080002  2038946.0  66.424561\n2018-10-02  68.440002  66.970001  67.190002  67.419998  1331518.0  66.761230\n2018-10-03  67.680000  66.000000  67.660004  66.330002  1543931.0  65.681885\n2018-10-04  66.449997  63.349998  66.449997  64.239998  3167706.0  63.612305\n2018-10-05  64.650002  62.799999  64.650002  64.059998  2342492.0  63.434063",
      "text/html": "<div>\n<style scoped>\n    .dataframe tbody tr th:only-of-type {\n        vertical-align: middle;\n    }\n\n    .dataframe tbody tr th {\n        vertical-align: top;\n    }\n\n    .dataframe thead th {\n        text-align: right;\n    }\n</style>\n<table border=\"1\" class=\"dataframe\">\n  <thead>\n    <tr style=\"text-align: right;\">\n      <th></th>\n      <th>High</th>\n      <th>Low</th>\n      <th>Open</th>\n      <th>Close</th>\n      <th>Volume</th>\n      <th>Adj Close</th>\n    </tr>\n    <tr>\n      <th>Date</th>\n      <th></th>\n      <th></th>\n      <th></th>\n      <th></th>\n      <th></th>\n      <th></th>\n    </tr>\n  </thead>\n  <tbody>\n    <tr>\n      <th>2018-10-01</th>\n      <td>67.510002</td>\n      <td>66.239998</td>\n      <td>66.440002</td>\n      <td>67.080002</td>\n      <td>2038946.0</td>\n      <td>66.424561</td>\n    </tr>\n    <tr>\n      <th>2018-10-02</th>\n      <td>68.440002</td>\n      <td>66.970001</td>\n      <td>67.190002</td>\n      <td>67.419998</td>\n      <td>1331518.0</td>\n      <td>66.761230</td>\n    </tr>\n    <tr>\n      <th>2018-10-03</th>\n      <td>67.680000</td>\n      <td>66.000000</td>\n      <td>67.660004</td>\n      <td>66.330002</td>\n      <td>1543931.0</td>\n      <td>65.681885</td>\n    </tr>\n    <tr>\n      <th>2018-10-04</th>\n      <td>66.449997</td>\n      <td>63.349998</td>\n      <td>66.449997</td>\n      <td>64.239998</td>\n      <td>3167706.0</td>\n      <td>63.612305</td>\n    </tr>\n    <tr>\n      <th>2018-10-05</th>\n      <td>64.650002</td>\n      <td>62.799999</td>\n      <td>64.650002</td>\n      <td>64.059998</td>\n      <td>2342492.0</td>\n      <td>63.434063</td>\n    </tr>\n  </tbody>\n</table>\n</div>"
     },
     "metadata": {},
     "output_type": "execute_result",
     "execution_count": 6
    }
   ],
   "source": [
    "datos_Televisa.head()"
   ],
   "metadata": {
    "collapsed": false,
    "pycharm": {
     "name": "#%%\n",
     "is_executing": false
    }
   }
  },
  {
   "cell_type": "markdown",
   "source": [
    "Datos de América Móvil"
   ],
   "metadata": {
    "collapsed": false,
    "pycharm": {
     "name": "#%% md\n"
    }
   }
  },
  {
   "cell_type": "code",
   "execution_count": 7,
   "outputs": [
    {
     "data": {
      "text/plain": "             High    Low   Open  Close      Volume  Adj Close\nDate                                                         \n2018-10-01  15.27  15.06  15.08  15.24  16547257.0  15.045860\n2018-10-02  15.31  15.07  15.24  15.16  21345181.0  14.966879\n2018-10-03  15.22  14.62  15.19  14.68  53206915.0  14.492994\n2018-10-04  14.75  14.30  14.65  14.71  49120786.0  14.522612\n2018-10-05  14.78  14.55  14.75  14.59  24800638.0  14.404140",
      "text/html": "<div>\n<style scoped>\n    .dataframe tbody tr th:only-of-type {\n        vertical-align: middle;\n    }\n\n    .dataframe tbody tr th {\n        vertical-align: top;\n    }\n\n    .dataframe thead th {\n        text-align: right;\n    }\n</style>\n<table border=\"1\" class=\"dataframe\">\n  <thead>\n    <tr style=\"text-align: right;\">\n      <th></th>\n      <th>High</th>\n      <th>Low</th>\n      <th>Open</th>\n      <th>Close</th>\n      <th>Volume</th>\n      <th>Adj Close</th>\n    </tr>\n    <tr>\n      <th>Date</th>\n      <th></th>\n      <th></th>\n      <th></th>\n      <th></th>\n      <th></th>\n      <th></th>\n    </tr>\n  </thead>\n  <tbody>\n    <tr>\n      <th>2018-10-01</th>\n      <td>15.27</td>\n      <td>15.06</td>\n      <td>15.08</td>\n      <td>15.24</td>\n      <td>16547257.0</td>\n      <td>15.045860</td>\n    </tr>\n    <tr>\n      <th>2018-10-02</th>\n      <td>15.31</td>\n      <td>15.07</td>\n      <td>15.24</td>\n      <td>15.16</td>\n      <td>21345181.0</td>\n      <td>14.966879</td>\n    </tr>\n    <tr>\n      <th>2018-10-03</th>\n      <td>15.22</td>\n      <td>14.62</td>\n      <td>15.19</td>\n      <td>14.68</td>\n      <td>53206915.0</td>\n      <td>14.492994</td>\n    </tr>\n    <tr>\n      <th>2018-10-04</th>\n      <td>14.75</td>\n      <td>14.30</td>\n      <td>14.65</td>\n      <td>14.71</td>\n      <td>49120786.0</td>\n      <td>14.522612</td>\n    </tr>\n    <tr>\n      <th>2018-10-05</th>\n      <td>14.78</td>\n      <td>14.55</td>\n      <td>14.75</td>\n      <td>14.59</td>\n      <td>24800638.0</td>\n      <td>14.404140</td>\n    </tr>\n  </tbody>\n</table>\n</div>"
     },
     "metadata": {},
     "output_type": "execute_result",
     "execution_count": 7
    }
   ],
   "source": [
    "datos_Amovil.head()\n"
   ],
   "metadata": {
    "collapsed": false,
    "pycharm": {
     "name": "#%%\n",
     "is_executing": false
    }
   }
  }
 ],
 "metadata": {
  "kernelspec": {
   "display_name": "Python 3",
   "language": "python",
   "name": "python3"
  },
  "language_info": {
   "codemirror_mode": {
    "name": "ipython",
    "version": 2
   },
   "file_extension": ".py",
   "mimetype": "text/x-python",
   "name": "python",
   "nbconvert_exporter": "python",
   "pygments_lexer": "ipython2",
   "version": "2.7.6"
  },
  "pycharm": {
   "stem_cell": {
    "cell_type": "raw",
    "source": [],
    "metadata": {
     "collapsed": false
    }
   }
  }
 },
 "nbformat": 4,
 "nbformat_minor": 0
}