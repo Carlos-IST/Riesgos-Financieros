{
 "cells": [
  {
   "cell_type": "markdown",
   "metadata": {
    "collapsed": true,
    "pycharm": {
     "name": "#%% md\n"
    }
   },
   "source": [
    "# $VaR$ de Instrumentos de Deuda\n",
    "\n",
    "#### por Carlos Santillán"
   ]
  },
  {
   "cell_type": "markdown",
   "source": [
    "## Método de Variación Total"
   ],
   "metadata": {
    "collapsed": false,
    "pycharm": {
     "name": "#%% md\n"
    }
   }
  },
  {
   "cell_type": "markdown",
   "source": [
    "Para valuar, nos interesan:\n",
    "\n",
    "- Fecha de emisión \n",
    "\n",
    "- Fecha de vencimiento\n",
    "\n",
    "- VN\n",
    "\n",
    "- Tasa de interés\n",
    "\n",
    "- Periodicidad de la tasa de Interés\n",
    "\n",
    "- Tasa de rendimiento del mercado (YTM)"
   ],
   "metadata": {
    "collapsed": false,
    "pycharm": {
     "name": "#%% md\n"
    }
   }
  },
  {
   "cell_type": "markdown",
   "source": [
    "Nuestro objetivo ahora será determinar el $VaR$ diario con un nivel de confianza del 99.9%\n",
    "para el Bono de Lala\n",
    "\n",
    "En este caso:\n",
    "\n",
    "- Fecha de emisión: 12 marzo 2018 \n",
    "\n",
    "- Fecha de vencimiento: 28 febrero 2028\n",
    "\n",
    "- VN: 100\n",
    "\n",
    "- Tasa de interés: 9.17%\n",
    "\n",
    "- Periodicidad de la tasa de Interés: 182 días\n",
    "\n"
   ],
   "metadata": {
    "collapsed": false,
    "pycharm": {
     "name": "#%% md\n"
    }
   }
  },
  {
   "cell_type": "markdown",
   "source": [
    "### Bloque Inicial"
   ],
   "metadata": {
    "collapsed": false,
    "pycharm": {
     "name": "#%% md\n"
    }
   }
  },
  {
   "cell_type": "code",
   "execution_count": 7,
   "outputs": [
    {
     "name": "stdout",
     "text": [
      "Requirement already satisfied: pandas_datareader in c:\\users\\pc\\appdata\\local\\programs\\python\\python36\\lib\\site-packages (0.8.1)",
      "\n",
      "Requirement already satisfied: requests>=2.3.0 in c:\\users\\pc\\appdata\\roaming\\python\\python36\\site-packages (from pandas_datareader) (2.22.0)",
      "\n",
      "Requirement already satisfied: lxml in c:\\users\\pc\\appdata\\local\\programs\\python\\python36\\lib\\site-packages (from pandas_datareader) (4.4.1)",
      "\n",
      "Requirement already satisfied: pandas>=0.21 in c:\\users\\pc\\appdata\\roaming\\python\\python36\\site-packages (from pandas_datareader) (0.23.0)",
      "\n",
      "Requirement already satisfied: certifi>=2017.4.17 in c:\\users\\pc\\appdata\\roaming\\python\\python36\\site-packages (from requests>=2.3.0->pandas_datareader) (2019.9.11)",
      "\n",
      "Requirement already satisfied: urllib3!=1.25.0,!=1.25.1,<1.26,>=1.21.1 in c:\\users\\pc\\appdata\\roaming\\python\\python36\\site-packages (from requests>=2.3.0->pandas_datareader) (1.25.6)",
      "\n",
      "Requirement already satisfied: chardet<3.1.0,>=3.0.2 in c:\\users\\pc\\appdata\\roaming\\python\\python36\\site-packages (from requests>=2.3.0->pandas_datareader) (3.0.4)",
      "\n",
      "Requirement already satisfied: idna<2.9,>=2.5 in c:\\users\\pc\\appdata\\roaming\\python\\python36\\site-packages (from requests>=2.3.0->pandas_datareader) (2.8)",
      "\n",
      "Requirement already satisfied: numpy>=1.9.0 in c:\\users\\pc\\appdata\\roaming\\python\\python36\\site-packages (from pandas>=0.21->pandas_datareader) (1.17.2)",
      "\n",
      "Requirement already satisfied: python-dateutil>=2.5.0 in c:\\users\\pc\\appdata\\local\\programs\\python\\python36\\lib\\site-packages (from pandas>=0.21->pandas_datareader) (2.6.1)",
      "\n",
      "Requirement already satisfied: pytz>=2011k in c:\\users\\pc\\appdata\\roaming\\python\\python36\\site-packages (from pandas>=0.21->pandas_datareader) (2018.4)",
      "\n",
      "Requirement already satisfied: six>=1.5 in c:\\users\\pc\\appdata\\local\\programs\\python\\python36\\lib\\site-packages (from python-dateutil>=2.5.0->pandas>=0.21->pandas_datareader) (1.11.0)",
      "\n"
     ],
     "output_type": "stream"
    },
    {
     "name": "stderr",
     "text": [
      "WARNING: You are using pip version 19.2.3, however version 19.3 is available.\nYou should consider upgrading via the 'python -m pip install --upgrade pip' command.",
      "\n"
     ],
     "output_type": "stream"
    }
   ],
   "source": [
    "import numpy as np                  # Vectores\n",
    "import pandas as pd                 # DataFrames\n",
    "import matplotlib.pyplot as plt     # Gráficas\n",
    "import math                         # Operaciones\n",
    "import seaborn as sns               # Gráficos y controles de Scrapping\n",
    "import random                       # Muestreos aleatorios\n",
    "import quandl                       # Datasets financieros\n",
    "import yahoo_finance                # Acceso a Yahoo Finanzas\n",
    "import selenium\n",
    "import time\n",
    "import pyautogui                    # Controla el cursor\n",
    "import PIL                          # Para manipular imágenes\n",
    "\n",
    "### Tools for Monte Carlo Simulation\n",
    "from IPython.display import clear_output\n",
    "\n",
    "### Tools for dates\n",
    "from datetime import datetime\n",
    "from datetime import date\n",
    "\n",
    "### selenium package tools\n",
    "from selenium import webdriver\n",
    "from selenium.webdriver.common.keys import Keys\n",
    "from selenium.webdriver.common.action_chains import ActionChains\n",
    "from selenium.webdriver.support.ui import WebDriverWait\n",
    "from selenium.webdriver.support import expected_conditions as EC1\n",
    "from selenium.webdriver.common.by import By\n",
    "\n",
    "### SciPy Dstributions\n",
    "from scipy import stats             # Paquetería estadística\n",
    "from scipy.stats import kstest      # Prueba de Kolmogorov-Smirnov\n",
    "from scipy.stats import beta        # Distribución Beta\n",
    "from scipy.stats import expon       # Distribución Exponencial\n",
    "from scipy.stats import uniform     # Distribución uniforme\n",
    "from scipy.stats import norm        # Distribución normal\n",
    "from scipy.stats import binom       # Distribución Binomial\n",
    "\n",
    "### PIL image handler\n",
    "from PIL import Image\n",
    "\n",
    "### Forced installation of pandas_datareader\n",
    "import pip\n",
    "from pip._internal import main\n",
    "main(['install', 'pandas_datareader'])\n",
    "#main(['install', 'fix_yahoo_finance'])\n",
    "from pandas_datareader import data as web\n",
    "#import fix_yahoo_finance\n",
    "\n",
    "\n",
    "%matplotlib inline"
   ],
   "metadata": {
    "collapsed": false,
    "pycharm": {
     "name": "#%%\n",
     "is_executing": false
    }
   }
  },
  {
   "cell_type": "markdown",
   "source": [
    "Por la periodicidad del bono, hay un tramo que ya venció y lo queremos valuar\n",
    "al día de hoy.\n",
    "\n",
    "- Días por vencer será: HOY() - fecha de vencimiento\n",
    "\n",
    "- Número de flujos: dias por vencer / plazo cupón\n",
    "\n",
    "- Valor cupón: VN * tasa de 182 días * plazo/360\n",
    "\n",
    "- Número cupones completos: entero(numero de flujos) (son 16)\n",
    "\n",
    "- Días por devengar: dias por vencer - (182 * numero cupones completos)\n",
    "\n",
    "- Días devengados: plazo - dias por devengar\n",
    "\n",
    "(DONE) Habrá que traer los flujos a *t + 1*  \n",
    "\n",
    "precio sucio es 100.16\n",
    "\n",
    "precio limpio (sólo sirve para cotización) es: \n",
    "\n",
    "(DONE) Obtener variaciones (primero dividir entre 100) \n",
    "\n",
    "(DONE) Obtener variación al cuadrado \n",
    "\n",
    "Obtener media y desviación estándar\n",
    "\n",
    "Aplicar VaR a las variaciones de las tasas\n",
    "\n",
    "Tasa frontera = Tasa de ercado*(1 + Var)\n",
    "\n",
    "Volvemos a obtener precio sucio con Tasa Frontera\n",
    "\n",
    "Obtenemos un diferencial (-0.7728) \n",
    "\n",
    "plazo ceros = plazo + 143\n",
    "\n",
    "plazo ceros / 360\n",
    "\n",
    "% ponderacion = flujos hoy / precio sucio = 0.00446\n",
    "\n",
    "Dduracion de Macualay = suma (% Ponderacion * plazo ceros / 360) = 6.0097\n",
    "\n",
    "Duración modificada = -5.7395 (menos la anterior traida un periodo a valor presente)\n",
    "\n",
    "Convexidad = 46.1374\n",
    "\n",
    "Obtener VaR con Duracion Modificada y Convexidad\n"
   ],
   "metadata": {
    "collapsed": false,
    "pycharm": {
     "name": "#%% md\n"
    }
   }
  },
  {
   "cell_type": "markdown",
   "source": [
    "Leemos los datos de *LALA 18*:"
   ],
   "metadata": {
    "collapsed": false,
    "pycharm": {
     "name": "#%% md\n"
    }
   }
  },
  {
   "cell_type": "code",
   "execution_count": 2,
   "outputs": [
    {
     "data": {
      "text/plain": "         Date    YTM\n0  17/10/2018  9.488\n1  18/10/2018  9.459\n2  19/10/2018  9.604\n3  22/10/2018  9.769\n4  23/10/2018  9.775",
      "text/html": "<div>\n<style scoped>\n    .dataframe tbody tr th:only-of-type {\n        vertical-align: middle;\n    }\n\n    .dataframe tbody tr th {\n        vertical-align: top;\n    }\n\n    .dataframe thead th {\n        text-align: right;\n    }\n</style>\n<table border=\"1\" class=\"dataframe\">\n  <thead>\n    <tr style=\"text-align: right;\">\n      <th></th>\n      <th>Date</th>\n      <th>YTM</th>\n    </tr>\n  </thead>\n  <tbody>\n    <tr>\n      <th>0</th>\n      <td>17/10/2018</td>\n      <td>9.488</td>\n    </tr>\n    <tr>\n      <th>1</th>\n      <td>18/10/2018</td>\n      <td>9.459</td>\n    </tr>\n    <tr>\n      <th>2</th>\n      <td>19/10/2018</td>\n      <td>9.604</td>\n    </tr>\n    <tr>\n      <th>3</th>\n      <td>22/10/2018</td>\n      <td>9.769</td>\n    </tr>\n    <tr>\n      <th>4</th>\n      <td>23/10/2018</td>\n      <td>9.775</td>\n    </tr>\n  </tbody>\n</table>\n</div>"
     },
     "metadata": {},
     "output_type": "execute_result",
     "execution_count": 2
    }
   ],
   "source": [
    "datos_LALA18 = pd.read_csv('C:/Users/PC/Desktop/ULSA/7 Semestre/Admon de Riesgos/LALA18.csv')\n",
    "datos_LALA18.head()"
   ],
   "metadata": {
    "collapsed": false,
    "pycharm": {
     "name": "#%%\n",
     "is_executing": false
    }
   }
  },
  {
   "cell_type": "code",
   "execution_count": 3,
   "outputs": [
    {
     "data": {
      "text/plain": "           Date    YTM\n246  11/10/2019  9.364\n247  14/10/2019  9.374\n248  15/10/2019  9.363\n249  16/10/2019  9.308\n250  17/10/2019  9.311",
      "text/html": "<div>\n<style scoped>\n    .dataframe tbody tr th:only-of-type {\n        vertical-align: middle;\n    }\n\n    .dataframe tbody tr th {\n        vertical-align: top;\n    }\n\n    .dataframe thead th {\n        text-align: right;\n    }\n</style>\n<table border=\"1\" class=\"dataframe\">\n  <thead>\n    <tr style=\"text-align: right;\">\n      <th></th>\n      <th>Date</th>\n      <th>YTM</th>\n    </tr>\n  </thead>\n  <tbody>\n    <tr>\n      <th>246</th>\n      <td>11/10/2019</td>\n      <td>9.364</td>\n    </tr>\n    <tr>\n      <th>247</th>\n      <td>14/10/2019</td>\n      <td>9.374</td>\n    </tr>\n    <tr>\n      <th>248</th>\n      <td>15/10/2019</td>\n      <td>9.363</td>\n    </tr>\n    <tr>\n      <th>249</th>\n      <td>16/10/2019</td>\n      <td>9.308</td>\n    </tr>\n    <tr>\n      <th>250</th>\n      <td>17/10/2019</td>\n      <td>9.311</td>\n    </tr>\n  </tbody>\n</table>\n</div>"
     },
     "metadata": {},
     "output_type": "execute_result",
     "execution_count": 3
    }
   ],
   "source": [
    "datos_LALA18.tail()"
   ],
   "metadata": {
    "collapsed": false,
    "pycharm": {
     "name": "#%%\n",
     "is_executing": false
    }
   }
  },
  {
   "cell_type": "markdown",
   "source": [
    "Vemos nuestros tipos de datos:"
   ],
   "metadata": {
    "collapsed": false,
    "pycharm": {
     "name": "#%% md\n"
    }
   }
  },
  {
   "cell_type": "code",
   "execution_count": 4,
   "outputs": [
    {
     "data": {
      "text/plain": "Date     object\nYTM     float64\ndtype: object"
     },
     "metadata": {},
     "output_type": "execute_result",
     "execution_count": 4
    }
   ],
   "source": [
    "datos_LALA18.dtypes"
   ],
   "metadata": {
    "collapsed": false,
    "pycharm": {
     "name": "#%%\n",
     "is_executing": false
    }
   }
  },
  {
   "cell_type": "markdown",
   "source": [
    "Declaramos la información existente:"
   ],
   "metadata": {
    "collapsed": false,
    "pycharm": {
     "name": "#%% md\n"
    }
   }
  },
  {
   "cell_type": "code",
   "execution_count": 5,
   "outputs": [],
   "source": [
    "fechaEmision = pd.to_datetime('2018-03-12')\n",
    "fechaVencimiento = pd.to_datetime('2028-02-28')\n",
    "VN = 100\n",
    "tasaInteres = 0.0917\n",
    "periodicidad = 182"
   ],
   "metadata": {
    "collapsed": false,
    "pycharm": {
     "name": "#%%\n",
     "is_executing": false
    }
   }
  },
  {
   "cell_type": "markdown",
   "source": [
    "Funciones para obtener los datos principales:"
   ],
   "metadata": {
    "collapsed": false,
    "pycharm": {
     "name": "#%% md\n"
    }
   }
  },
  {
   "cell_type": "code",
   "execution_count": 18,
   "outputs": [
    {
     "data": {
      "text/plain": "39"
     },
     "metadata": {},
     "output_type": "execute_result",
     "execution_count": 18
    }
   ],
   "source": [
    "### INICIA FUNCIÓN ###\n",
    "def dias_por_vencer(fecha):\n",
    "    hoy = pd.to_datetime(date.today())\n",
    "    resp = (-1)*(hoy - fecha).days\n",
    "    return resp\n",
    "### FIN DE FUNCIÓN ###\n",
    "\n",
    "### INIVIA FUNCION ###\n",
    "def numero_flujos(plazo):\n",
    "    resp = dias_por_vencer(fechaVencimiento) / plazo\n",
    "    return resp\n",
    "### FIN DE FUNCIÓN ### \n",
    "\n",
    "### INICIA FUNCIÓN ###\n",
    "def valor_cupon(valorNorminal, tasa, plazo):\n",
    "    resp = valorNorminal * tasa * (plazo/360)\n",
    "    return resp\n",
    "### FIN DE FUNCIÓN ###\n",
    "\n",
    "### INICIA FUCION ###\n",
    "def numero_cupones_completos(numeroFlujos):\n",
    "    resp = int(numeroFlujos)\n",
    "    return resp\n",
    "### FIN DE FUNCIÓN ###\n",
    "\n",
    "### INICIA FUNCIÓN ###\n",
    "def dias_por_devengar(plazo):\n",
    "    resp = dias_por_vencer(fechaVencimiento) - (plazo * numero_cupones_completos(numero_flujos(plazo)))\n",
    "    return resp\n",
    "### FIN DE FUNCIÓN ###\n",
    "\n",
    "### INICIA FUNCIÓN ###\n",
    "def dias_devengados(plazo):\n",
    "    resp = plazo - dias_por_devengar(plazo)\n",
    "    return resp\n",
    "### FIN DE FUNCIÓN ###"
   ],
   "metadata": {
    "collapsed": false,
    "pycharm": {
     "name": "#%%\n",
     "is_executing": false
    }
   }
  },
  {
   "cell_type": "markdown",
   "source": [
    "Asignamos valores a las funciones para que sea más fácil manipular después:"
   ],
   "metadata": {
    "collapsed": false,
    "pycharm": {
     "name": "#%% md\n"
    }
   }
  },
  {
   "cell_type": "code",
   "execution_count": 19,
   "outputs": [
    {
     "name": "stdout",
     "text": [
      "Los dias por vencer son: 3055\nEl número de flujos es: 16.785714285714285\nEl valor del cupón es: 4.635944444444444\nEl número de cupones completos es: 16\nLos dias por devengar son: 143\nLos dias devengados son: 39\n"
     ],
     "output_type": "stream"
    }
   ],
   "source": [
    "diasPorVencer = dias_por_vencer(fechaVencimiento)\n",
    "numeroFlujos = numero_flujos(periodicidad)\n",
    "valorCupon = valor_cupon(VN, tasaInteres, periodicidad)\n",
    "numeroCuponesCompletos = numero_cupones_completos(numeroFlujos)\n",
    "diasPorDevengar = dias_por_devengar(periodicidad)\n",
    "diasDevengados = dias_devengados(periodicidad)\n",
    "\n",
    "print(\"Los dias por vencer son: \" + str(diasPorVencer))\n",
    "print(\"El número de flujos es: \" + str(numeroFlujos))\n",
    "print(\"El valor del cupón es: \" + str(valorCupon))\n",
    "print(\"El número de cupones completos es: \" + str(numeroCuponesCompletos))\n",
    "print(\"Los dias por devengar son: \" + str(diasPorDevengar))\n",
    "print(\"Los dias devengados son: \" + str(diasDevengados))"
   ],
   "metadata": {
    "collapsed": false,
    "pycharm": {
     "name": "#%%\n",
     "is_executing": false
    }
   }
  },
  {
   "cell_type": "markdown",
   "source": [
    "Creamos función que obtenga las tasas en decimales, las variaciones y las variaciones\n",
    "al cuadrado:"
   ],
   "metadata": {
    "collapsed": false,
    "pycharm": {
     "name": "#%% md\n"
    }
   }
  },
  {
   "cell_type": "code",
   "execution_count": 27,
   "outputs": [],
   "source": [
    "### INICIA FUNCIÓN ###\n",
    "def variaciones_tasas(datos):\n",
    "    \"\"\"\n",
    "    Función para generar las columnas restantes del DataFrame original\n",
    "    :param datos: pandas DataFrame con 2 columnas: [fechas | tasas]\n",
    "    :return: pandas DataFrame con 5 columnas: [fechas | tasas | tasas decimal | variacion | variacion**2] \n",
    "    \"\"\"\n",
    "    datos['Tasas_decimal'] = datos.iloc[:,1] / 100     ### 2a columna entre 100\n",
    "    \n",
    "    tasasNumpy = np.asarray(datos['Tasas_decimal'])    ### Pasamos a numpy para manipular\n",
    "    \n",
    "    variacionesNumpy = np.zeros(len(tasasNumpy)-1)     ### Inicializamos vectores\n",
    "    variacionesCuadNumpy = np.zeros(len(tasasNumpy)-1)\n",
    "    for i in range(len(variacionesNumpy)):             ### Llenamos vectores\n",
    "        variacionesNumpy[i] = np.log(tasasNumpy[i+1] / tasasNumpy[i])\n",
    "        variacionesCuadNumpy[i] = variacionesNumpy[i]**2\n",
    "        \n",
    "    variacionesNumpyPd = pd.Series(variacionesNumpy)\n",
    "    variacionesCuadNumpyPd = pd.Series(variacionesCuadNumpy)     ### Regresamos a Pandas\n",
    "    \n",
    "    datos['Variaciones_Tasa'] = variacionesNumpyPd\n",
    "    datos['Variaciones_Cuad_Tasa'] = variacionesCuadNumpyPd     ### Añadimos columnas\n",
    "    \n",
    "    ### Recorremos un lugar nuestros datos nuevos\n",
    "    datos['Variaciones_Tasa'] = datos['Variaciones_Tasa'].shift(+1)\n",
    "    datos['Variaciones_Cuad_Tasa'] = datos['Variaciones_Cuad_Tasa'].shift(+1)\n",
    "    \n",
    "    return datos\n",
    "### FIN DE FUNCIÓN ###\n",
    "\n",
    "datos_LALA18_variaciones = variaciones_tasas(datos_LALA18)\n",
    "    "
   ],
   "metadata": {
    "collapsed": false,
    "pycharm": {
     "name": "#%%\n",
     "is_executing": false
    }
   }
  },
  {
   "cell_type": "markdown",
   "source": [
    "Observamos el resultado de nuestra función:"
   ],
   "metadata": {
    "collapsed": false,
    "pycharm": {
     "name": "#%% md\n"
    }
   }
  },
  {
   "cell_type": "code",
   "execution_count": 28,
   "outputs": [
    {
     "data": {
      "text/plain": "         Date    YTM  Tasas_decimal  Variaciones_Tasa  Variaciones_Cuad_Tasa\n0  17/10/2018  9.488        0.09488               NaN                    NaN\n1  18/10/2018  9.459        0.09459         -0.003061           9.370780e-06\n2  19/10/2018  9.604        0.09604          0.015213           2.314356e-04\n3  22/10/2018  9.769        0.09769          0.017034           2.901717e-04\n4  23/10/2018  9.775        0.09775          0.000614           3.769950e-07",
      "text/html": "<div>\n<style scoped>\n    .dataframe tbody tr th:only-of-type {\n        vertical-align: middle;\n    }\n\n    .dataframe tbody tr th {\n        vertical-align: top;\n    }\n\n    .dataframe thead th {\n        text-align: right;\n    }\n</style>\n<table border=\"1\" class=\"dataframe\">\n  <thead>\n    <tr style=\"text-align: right;\">\n      <th></th>\n      <th>Date</th>\n      <th>YTM</th>\n      <th>Tasas_decimal</th>\n      <th>Variaciones_Tasa</th>\n      <th>Variaciones_Cuad_Tasa</th>\n    </tr>\n  </thead>\n  <tbody>\n    <tr>\n      <th>0</th>\n      <td>17/10/2018</td>\n      <td>9.488</td>\n      <td>0.09488</td>\n      <td>NaN</td>\n      <td>NaN</td>\n    </tr>\n    <tr>\n      <th>1</th>\n      <td>18/10/2018</td>\n      <td>9.459</td>\n      <td>0.09459</td>\n      <td>-0.003061</td>\n      <td>9.370780e-06</td>\n    </tr>\n    <tr>\n      <th>2</th>\n      <td>19/10/2018</td>\n      <td>9.604</td>\n      <td>0.09604</td>\n      <td>0.015213</td>\n      <td>2.314356e-04</td>\n    </tr>\n    <tr>\n      <th>3</th>\n      <td>22/10/2018</td>\n      <td>9.769</td>\n      <td>0.09769</td>\n      <td>0.017034</td>\n      <td>2.901717e-04</td>\n    </tr>\n    <tr>\n      <th>4</th>\n      <td>23/10/2018</td>\n      <td>9.775</td>\n      <td>0.09775</td>\n      <td>0.000614</td>\n      <td>3.769950e-07</td>\n    </tr>\n  </tbody>\n</table>\n</div>"
     },
     "metadata": {},
     "output_type": "execute_result",
     "execution_count": 28
    }
   ],
   "source": [
    "datos_LALA18_variaciones.head()"
   ],
   "metadata": {
    "collapsed": false,
    "pycharm": {
     "name": "#%%\n",
     "is_executing": false
    }
   }
  },
  {
   "cell_type": "code",
   "execution_count": 29,
   "outputs": [
    {
     "data": {
      "text/plain": "           Date    YTM  Tasas_decimal  Variaciones_Tasa  Variaciones_Cuad_Tasa\n246  11/10/2019  9.364        0.09364         -0.002134           4.552086e-06\n247  14/10/2019  9.374        0.09374          0.001067           1.139236e-06\n248  15/10/2019  9.363        0.09363         -0.001174           1.378622e-06\n249  16/10/2019  9.308        0.09308         -0.005892           3.470985e-05\n250  17/10/2019  9.311        0.09311          0.000322           1.038460e-07",
      "text/html": "<div>\n<style scoped>\n    .dataframe tbody tr th:only-of-type {\n        vertical-align: middle;\n    }\n\n    .dataframe tbody tr th {\n        vertical-align: top;\n    }\n\n    .dataframe thead th {\n        text-align: right;\n    }\n</style>\n<table border=\"1\" class=\"dataframe\">\n  <thead>\n    <tr style=\"text-align: right;\">\n      <th></th>\n      <th>Date</th>\n      <th>YTM</th>\n      <th>Tasas_decimal</th>\n      <th>Variaciones_Tasa</th>\n      <th>Variaciones_Cuad_Tasa</th>\n    </tr>\n  </thead>\n  <tbody>\n    <tr>\n      <th>246</th>\n      <td>11/10/2019</td>\n      <td>9.364</td>\n      <td>0.09364</td>\n      <td>-0.002134</td>\n      <td>4.552086e-06</td>\n    </tr>\n    <tr>\n      <th>247</th>\n      <td>14/10/2019</td>\n      <td>9.374</td>\n      <td>0.09374</td>\n      <td>0.001067</td>\n      <td>1.139236e-06</td>\n    </tr>\n    <tr>\n      <th>248</th>\n      <td>15/10/2019</td>\n      <td>9.363</td>\n      <td>0.09363</td>\n      <td>-0.001174</td>\n      <td>1.378622e-06</td>\n    </tr>\n    <tr>\n      <th>249</th>\n      <td>16/10/2019</td>\n      <td>9.308</td>\n      <td>0.09308</td>\n      <td>-0.005892</td>\n      <td>3.470985e-05</td>\n    </tr>\n    <tr>\n      <th>250</th>\n      <td>17/10/2019</td>\n      <td>9.311</td>\n      <td>0.09311</td>\n      <td>0.000322</td>\n      <td>1.038460e-07</td>\n    </tr>\n  </tbody>\n</table>\n</div>"
     },
     "metadata": {},
     "output_type": "execute_result",
     "execution_count": 29
    }
   ],
   "source": [
    "datos_LALA18_variaciones.tail()"
   ],
   "metadata": {
    "collapsed": false,
    "pycharm": {
     "name": "#%%\n",
     "is_executing": false
    }
   }
  },
  {
   "cell_type": "code",
   "execution_count": 30,
   "outputs": [
    {
     "data": {
      "text/plain": "Date                      object\nYTM                      float64\nTasas_decimal            float64\nVariaciones_Tasa         float64\nVariaciones_Cuad_Tasa    float64\ndtype: object"
     },
     "metadata": {},
     "output_type": "execute_result",
     "execution_count": 30
    }
   ],
   "source": [
    "datos_LALA18_variaciones.dtypes"
   ],
   "metadata": {
    "collapsed": false,
    "pycharm": {
     "name": "#%%\n",
     "is_executing": false
    }
   }
  },
  {
   "cell_type": "markdown",
   "source": [
    "Habiendo verificado que nuestro DataFrame es correcto, obtenemos la media y las desviaciones\n",
    "estándar de nuestros datos:"
   ],
   "metadata": {
    "collapsed": false,
    "pycharm": {
     "name": "#%% md\n"
    }
   }
  },
  {
   "cell_type": "code",
   "execution_count": 31,
   "outputs": [],
   "source": [
    "media_variacion = datos_LALA18_variaciones['Variaciones_Tasa'].mean()\n",
    "media_variacion_cuad = datos_LALA18_variaciones['Variaciones_Cuad_Tasa'].mean()\n",
    "\n",
    "stdev_variacion = datos_LALA18_variaciones['Variaciones_Tasa'].std()\n",
    "stdev_variacion_cuad = datos_LALA18_variaciones['Variaciones_Cuad_Tasa'].std()"
   ],
   "metadata": {
    "collapsed": false,
    "pycharm": {
     "name": "#%%\n",
     "is_executing": false
    }
   }
  },
  {
   "cell_type": "markdown",
   "source": [
    "Procedemos entonces a la valuación"
   ],
   "metadata": {
    "collapsed": false,
    "pycharm": {
     "name": "#%% md\n",
     "is_executing": false
    }
   }
  },
  {
   "cell_type": "code",
   "execution_count": 41,
   "outputs": [],
   "source": [
    "### INICIA FUNCIÓN ###\n",
    "def tasa_mercado(datos):\n",
    "    \"\"\"\n",
    "    Función para obtener la Tasa de Mercado, obtiene el último valor de la tasa\n",
    "    que se encuentra en el DataFrame\n",
    "    :param datos: DataFrame con tasas\n",
    "    :return: Úlimo valor en la columna de tasas\n",
    "    \"\"\"\n",
    "    resp = (datos.iloc[:,1].iloc[-1]) / 100     ### Segunda columna, último valor\n",
    "    return resp\n",
    "### FIN DE FUNCIÓN ###\n",
    "\n",
    "tasaMercado = tasa_mercado(datos_LALA18_variaciones)\n"
   ],
   "metadata": {
    "collapsed": false,
    "pycharm": {
     "name": "#%%\n",
     "is_executing": false
    }
   }
  },
  {
   "cell_type": "markdown",
   "source": [
    "Creamos una función que traiga a valor presente los flujos:"
   ],
   "metadata": {
    "collapsed": false,
    "pycharm": {
     "name": "#%% md\n"
    }
   }
  },
  {
   "cell_type": "code",
   "source": [
    "def flujos_tmas1_hoy(cuponesCompletos, tasaMkt, periodo, valCupon, diasxDevengar):\n",
    "    \"\"\"\n",
    "    Función que obtiene DataFrame de [cupon | flujos t+1 | flujos hoy]\n",
    "    \n",
    "    :param cuponesCompletos: Número de cupones completos\n",
    "    :param tasaMkt: Tasa de Mercado (último valor de tasa del DATAfRAME de origen\n",
    "    :param periodo: Periodicidad del cupón\n",
    "    :param valCupon: Valor del Cupón\n",
    "    :param diasxDevengar: Días que faltan por devengar\n",
    "    :return: Dataframe con las 3 columnas\n",
    "    \"\"\"\n",
    "    cupon = np.arange(1, (cuponesCompletos+1))     ### Vector con cupones enteros\n",
    "    flujosTmas1 = np.zeros(len(cupon))                   ### Vector con flujos calculados\n",
    "    flujosHoy = np.zeros(len(cupon))                     ### Vector con flujos al día de hoy\n",
    "    \n",
    "    vAjustada = 1 / (1 + (tasaMkt * periodo / 360))      ### v de Matemáticas Financieras\n",
    "    \n",
    "    ### Llenamos vector de flujos a valor presente en (t+1) y flujos para HOY\n",
    "    for i in range(len(flujosTmas1)-1):\n",
    "        flujosTmas1[i] = valCupon * (vAjustada**(cupon[i]))\n",
    "        flujosHoy[i] = flujosTmas1[i] * (vAjustada**(diasxDevengar / periodo))\n",
    "        \n",
    "    ### El último cupón también paga el Valor Nominal del Bono    \n",
    "    flujosTmas1[len(flujosTmas1)-1] = (VN + valCupon) * (vAjustada**(cupon[len(cupon)-1]))\n",
    "    flujosHoy[len(flujosHoy)-1] = (flujosTmas1[len(flujosTmas1)-1]) * (vAjustada**(diasxDevengar / periodo))\n",
    "    \n",
    "    ### Formamos DataFrame con esta información\n",
    "    dataFrame1 = pd.DataFrame()     ### DataFrame vacío\n",
    "    cuponPd = pd.Series(cupon)\n",
    "    flujosTmas1Pd = pd.Series(flujosTmas1)\n",
    "    flujosHoyPd = pd.Series(flujosHoy)\n",
    "    \n",
    "    dataFrame1['Cupon'] = cuponPd\n",
    "    dataFrame1['Flujos_t+1'] = flujosTmas1Pd\n",
    "    dataFrame1['Flujos_hoy'] = flujosHoyPd\n",
    "    \n",
    "    return dataFrame1\n",
    "### FIN  DE LA FUNCIÓN ###\n",
    "\n",
    "valuacionFlujos = flujos_tmas1_hoy(numeroCuponesCompletos, tasaMercado, periodicidad, valorCupon, diasPorDevengar)\n",
    "    "
   ],
   "metadata": {
    "collapsed": false,
    "pycharm": {
     "name": "#%% \n",
     "is_executing": false
    }
   },
   "execution_count": 47,
   "outputs": []
  },
  {
   "cell_type": "markdown",
   "source": [
    "El **Precio del Bono** será la suma de los flujos traidos a valor presente a *t+1*"
   ],
   "metadata": {
    "collapsed": false,
    "pycharm": {
     "name": "#%% md\n"
    }
   }
  },
  {
   "cell_type": "code",
   "execution_count": 49,
   "outputs": [
    {
     "data": {
      "text/plain": "99.21109327598595"
     },
     "metadata": {},
     "output_type": "execute_result",
     "execution_count": 49
    }
   ],
   "source": [
    "### INICIA FUNCIÓN ###\n",
    "def precio_bono(datos):\n",
    "    \"\"\"\n",
    "    Función que obtiene el precio del bono como la suma de los flujos en t+1\n",
    "    La columna con los flujos en t+1 deberá llamarse \"Flujos_t+1\"\n",
    "    \n",
    "    :param datos: DataFrame con columna de flujos en t+1\n",
    "    :return: Precio del Bono (float)\n",
    "    \"\"\"\n",
    "    resp = datos['Flujos_t+1'].sum()\n",
    "    return resp\n",
    "\n",
    "precioBono = precio_bono(valuacionFlujos)\n",
    "\n",
    "precioBono"
   ],
   "metadata": {
    "collapsed": false,
    "pycharm": {
     "name": "#%%\n",
     "is_executing": false
    }
   }
  },
  {
   "cell_type": "markdown",
   "source": [
    "Entonces, bajo esta técnica de valuación, el precio de nuestro bono es **99.211093**\n",
    "\n",
    "Existe un \"cupón no completo\", que deberá traerse a valor presente considerando el \n",
    "tiempo restante:"
   ],
   "metadata": {
    "collapsed": false
   }
  },
  {
   "cell_type": "code",
   "execution_count": 50,
   "outputs": [
    {
     "data": {
      "text/plain": "4.4713871526860745"
     },
     "metadata": {},
     "output_type": "execute_result",
     "execution_count": 50
    }
   ],
   "source": [
    "### INICIA FUNCIÓN ###\n",
    "def cupon_no_completo(valCupon, tasaMkt, periodo, diasxDevengar):\n",
    "    \"\"\"\n",
    "    Obtiene el valor presente del cupón no completo \n",
    "    \n",
    "    :param valCupon: Valor del Cupón\n",
    "    :param tasaMkt: Tasa de Mercado\n",
    "    :param periodo: Periodicidad del Bono\n",
    "    :param diasxDevengar: Días que faltan por devengar\n",
    "    :return: Valor presente del cupón no completo (float)\n",
    "    \"\"\"\n",
    "    vAjustada = 1 / (1 + tasaMkt * periodo / 360)\n",
    "    resp = valCupon * (vAjustada**(diasxDevengar / periodo))\n",
    "    return resp\n",
    "\n",
    "vpCuponNoCompleto = cupon_no_completo(valorCupon, tasaMercado, periodicidad, diasPorDevengar)\n",
    "\n",
    "vpCuponNoCompleto\n",
    "    \n",
    "    \n",
    "\n"
   ],
   "metadata": {
    "collapsed": false,
    "pycharm": {
     "name": "#%%\n",
     "is_executing": false
    }
   }
  }
 ],
 "metadata": {
  "kernelspec": {
   "display_name": "Python 3",
   "language": "python",
   "name": "python3"
  },
  "language_info": {
   "codemirror_mode": {
    "name": "ipython",
    "version": 2
   },
   "file_extension": ".py",
   "mimetype": "text/x-python",
   "name": "python",
   "nbconvert_exporter": "python",
   "pygments_lexer": "ipython2",
   "version": "2.7.6"
  },
  "pycharm": {
   "stem_cell": {
    "cell_type": "raw",
    "source": [],
    "metadata": {
     "collapsed": false
    }
   }
  }
 },
 "nbformat": 4,
 "nbformat_minor": 0
}